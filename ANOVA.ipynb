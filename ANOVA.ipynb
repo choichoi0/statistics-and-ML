{
 "cells": [
  {
   "cell_type": "code",
   "execution_count": 1,
   "id": "0a17b352",
   "metadata": {},
   "outputs": [
    {
     "name": "stdout",
     "output_type": "stream",
     "text": [
      "Collecting package metadata (current_repodata.json): done\n",
      "Solving environment: done\n",
      "\n",
      "\n",
      "==> WARNING: A newer version of conda exists. <==\n",
      "  current version: 23.3.1\n",
      "  latest version: 23.10.0\n",
      "\n",
      "Please update conda by running\n",
      "\n",
      "    $ conda update -n base -c defaults conda\n",
      "\n",
      "Or to minimize the number of packages updated during conda update use\n",
      "\n",
      "     conda install conda=23.10.0\n",
      "\n",
      "\n",
      "\n",
      "# All requested packages already installed.\n",
      "\n",
      "\n",
      "Note: you may need to restart the kernel to use updated packages.\n"
     ]
    }
   ],
   "source": [
    "%conda install matplotlib -y"
   ]
  },
  {
   "cell_type": "markdown",
   "id": "9e62c615",
   "metadata": {},
   "source": [
    "## ANOVA"
   ]
  },
  {
   "cell_type": "markdown",
   "id": "acae2f95",
   "metadata": {},
   "source": [
    "### One-way ANOVA"
   ]
  },
  {
   "cell_type": "code",
   "execution_count": 2,
   "id": "26476bf4",
   "metadata": {},
   "outputs": [
    {
     "data": {
      "text/html": [
       "<div>\n",
       "<style scoped>\n",
       "    .dataframe tbody tr th:only-of-type {\n",
       "        vertical-align: middle;\n",
       "    }\n",
       "\n",
       "    .dataframe tbody tr th {\n",
       "        vertical-align: top;\n",
       "    }\n",
       "\n",
       "    .dataframe thead th {\n",
       "        text-align: right;\n",
       "    }\n",
       "</style>\n",
       "<table border=\"1\" class=\"dataframe\">\n",
       "  <thead>\n",
       "    <tr style=\"text-align: right;\">\n",
       "      <th></th>\n",
       "      <th>A</th>\n",
       "      <th>B</th>\n",
       "      <th>C</th>\n",
       "    </tr>\n",
       "  </thead>\n",
       "  <tbody>\n",
       "    <tr>\n",
       "      <th>0</th>\n",
       "      <td>25</td>\n",
       "      <td>45</td>\n",
       "      <td>30</td>\n",
       "    </tr>\n",
       "    <tr>\n",
       "      <th>1</th>\n",
       "      <td>30</td>\n",
       "      <td>55</td>\n",
       "      <td>29</td>\n",
       "    </tr>\n",
       "    <tr>\n",
       "      <th>2</th>\n",
       "      <td>28</td>\n",
       "      <td>29</td>\n",
       "      <td>33</td>\n",
       "    </tr>\n",
       "    <tr>\n",
       "      <th>3</th>\n",
       "      <td>36</td>\n",
       "      <td>56</td>\n",
       "      <td>37</td>\n",
       "    </tr>\n",
       "    <tr>\n",
       "      <th>4</th>\n",
       "      <td>29</td>\n",
       "      <td>40</td>\n",
       "      <td>27</td>\n",
       "    </tr>\n",
       "  </tbody>\n",
       "</table>\n",
       "</div>"
      ],
      "text/plain": [
       "    A   B   C\n",
       "0  25  45  30\n",
       "1  30  55  29\n",
       "2  28  29  33\n",
       "3  36  56  37\n",
       "4  29  40  27"
      ]
     },
     "metadata": {},
     "output_type": "display_data"
    },
    {
     "data": {
      "text/html": [
       "<div>\n",
       "<style scoped>\n",
       "    .dataframe tbody tr th:only-of-type {\n",
       "        vertical-align: middle;\n",
       "    }\n",
       "\n",
       "    .dataframe tbody tr th {\n",
       "        vertical-align: top;\n",
       "    }\n",
       "\n",
       "    .dataframe thead th {\n",
       "        text-align: right;\n",
       "    }\n",
       "</style>\n",
       "<table border=\"1\" class=\"dataframe\">\n",
       "  <thead>\n",
       "    <tr style=\"text-align: right;\">\n",
       "      <th></th>\n",
       "      <th>index</th>\n",
       "      <th>method</th>\n",
       "      <th>result</th>\n",
       "    </tr>\n",
       "  </thead>\n",
       "  <tbody>\n",
       "    <tr>\n",
       "      <th>0</th>\n",
       "      <td>0</td>\n",
       "      <td>A</td>\n",
       "      <td>25</td>\n",
       "    </tr>\n",
       "    <tr>\n",
       "      <th>1</th>\n",
       "      <td>1</td>\n",
       "      <td>A</td>\n",
       "      <td>30</td>\n",
       "    </tr>\n",
       "    <tr>\n",
       "      <th>2</th>\n",
       "      <td>2</td>\n",
       "      <td>A</td>\n",
       "      <td>28</td>\n",
       "    </tr>\n",
       "    <tr>\n",
       "      <th>3</th>\n",
       "      <td>3</td>\n",
       "      <td>A</td>\n",
       "      <td>36</td>\n",
       "    </tr>\n",
       "    <tr>\n",
       "      <th>4</th>\n",
       "      <td>4</td>\n",
       "      <td>A</td>\n",
       "      <td>29</td>\n",
       "    </tr>\n",
       "    <tr>\n",
       "      <th>5</th>\n",
       "      <td>0</td>\n",
       "      <td>B</td>\n",
       "      <td>45</td>\n",
       "    </tr>\n",
       "    <tr>\n",
       "      <th>6</th>\n",
       "      <td>1</td>\n",
       "      <td>B</td>\n",
       "      <td>55</td>\n",
       "    </tr>\n",
       "    <tr>\n",
       "      <th>7</th>\n",
       "      <td>2</td>\n",
       "      <td>B</td>\n",
       "      <td>29</td>\n",
       "    </tr>\n",
       "    <tr>\n",
       "      <th>8</th>\n",
       "      <td>3</td>\n",
       "      <td>B</td>\n",
       "      <td>56</td>\n",
       "    </tr>\n",
       "    <tr>\n",
       "      <th>9</th>\n",
       "      <td>4</td>\n",
       "      <td>B</td>\n",
       "      <td>40</td>\n",
       "    </tr>\n",
       "    <tr>\n",
       "      <th>10</th>\n",
       "      <td>0</td>\n",
       "      <td>C</td>\n",
       "      <td>30</td>\n",
       "    </tr>\n",
       "    <tr>\n",
       "      <th>11</th>\n",
       "      <td>1</td>\n",
       "      <td>C</td>\n",
       "      <td>29</td>\n",
       "    </tr>\n",
       "    <tr>\n",
       "      <th>12</th>\n",
       "      <td>2</td>\n",
       "      <td>C</td>\n",
       "      <td>33</td>\n",
       "    </tr>\n",
       "    <tr>\n",
       "      <th>13</th>\n",
       "      <td>3</td>\n",
       "      <td>C</td>\n",
       "      <td>37</td>\n",
       "    </tr>\n",
       "    <tr>\n",
       "      <th>14</th>\n",
       "      <td>4</td>\n",
       "      <td>C</td>\n",
       "      <td>27</td>\n",
       "    </tr>\n",
       "  </tbody>\n",
       "</table>\n",
       "</div>"
      ],
      "text/plain": [
       "    index method  result\n",
       "0       0      A      25\n",
       "1       1      A      30\n",
       "2       2      A      28\n",
       "3       3      A      36\n",
       "4       4      A      29\n",
       "5       0      B      45\n",
       "6       1      B      55\n",
       "7       2      B      29\n",
       "8       3      B      56\n",
       "9       4      B      40\n",
       "10      0      C      30\n",
       "11      1      C      29\n",
       "12      2      C      33\n",
       "13      3      C      37\n",
       "14      4      C      27"
      ]
     },
     "metadata": {},
     "output_type": "display_data"
    }
   ],
   "source": [
    "import pandas as pd\n",
    "\n",
    "example = pd.DataFrame({'A': [25, 30, 28, 36, 29], 'B': [45, 55, 29, 56, 40], 'C': [30, 29, 33, 37, 27]})\n",
    "display(example)\n",
    "\n",
    "example_plot = pd.melt(example.reset_index(), id_vars=['index'], value_vars=['A', 'B', 'C'])\n",
    "example_plot.columns = ['index', 'method', 'result']\n",
    "display(example_plot)"
   ]
  },
  {
   "cell_type": "code",
   "execution_count": 3,
   "id": "58b607b9",
   "metadata": {},
   "outputs": [
    {
     "data": {
      "image/png": "[encoded data removed]",
      "text/plain": [
       "<Figure size 640x480 with 1 Axes>"
      ]
     },
     "metadata": {},
     "output_type": "display_data"
    }
   ],
   "source": [
    "import matplotlib.pyplot as plt\n",
    "import seaborn as sns\n",
    "\n",
    "ax = sns.boxplot(x='method', y='result', data=example_plot, color='#99c2a2')\n",
    "ax = sns.swarmplot(x='method', y='result', data=example_plot, color='#7d0013')\n",
    "plt.show()"
   ]
  },
  {
   "cell_type": "markdown",
   "id": "4fa453c5",
   "metadata": {},
   "source": [
    "The null hypothesis: means of all populations are equal to each other.  \n",
    "Alternative Hypothesis: Not all populations mean the same."
   ]
  },
  {
   "cell_type": "code",
   "execution_count": 4,
   "id": "a38ae36b",
   "metadata": {},
   "outputs": [
    {
     "name": "stdout",
     "output_type": "stream",
     "text": [
      "6.849681528662421 0.01036461841776795\n"
     ]
    }
   ],
   "source": [
    "import scipy.stats as stats\n",
    "\n",
    "fvalue, pvalue = stats.f_oneway(example['A'], example['B'], example['C'])\n",
    "print(fvalue, pvalue)"
   ]
  },
  {
   "cell_type": "markdown",
   "id": "b8aefee2",
   "metadata": {},
   "source": [
    "Interpretation: With a P-value of 0.01, there is sufficient grounds to reject the null hypothesis at the 99% confidence level.  \n",
    "=> Not all populations have the same mean! (There are cases where the means of the population are different!)"
   ]
  },
  {
   "cell_type": "markdown",
   "id": "a8f8eef9",
   "metadata": {},
   "source": [
    "If you want to find out which group it is, you should do the HSD test.\n",
    "\n",
    "The null hypothesis: the means of the two populations are equal to each other.  \n",
    "Alternative Hypothesis: The means of the two populations are different."
   ]
  },
  {
   "cell_type": "code",
   "execution_count": 5,
   "id": "1afc11a3",
   "metadata": {},
   "outputs": [
    {
     "name": "stdout",
     "output_type": "stream",
     "text": [
      "Tukey's HSD Pairwise Group Comparisons (95.0% Confidence Interval)\n",
      "Comparison  Statistic  p-value  Lower CI  Upper CI\n",
      " (0 - 1)    -15.400     0.014   -27.606    -3.194\n",
      " (0 - 2)     -1.600     0.935   -13.806    10.606\n",
      " (1 - 0)     15.400     0.014     3.194    27.606\n",
      " (1 - 2)     13.800     0.027     1.594    26.006\n",
      " (2 - 0)      1.600     0.935   -10.606    13.806\n",
      " (2 - 1)    -13.800     0.027   -26.006    -1.594\n",
      "\n"
     ]
    }
   ],
   "source": [
    "hsd = stats.tukey_hsd(example['A'], example['B'], example['C'])\n",
    "print(hsd)"
   ]
  },
  {
   "cell_type": "markdown",
   "id": "4a221f4a",
   "metadata": {},
   "source": [
    "Since the p-value of 1 - 0, 1 - 2 is less than 0.03, there is sufficient evidence to reject each null hypothesis at the 97% confidence level.  \n",
    "=> The mean of population B differs from the mean of population A and population C!"
   ]
  },
  {
   "cell_type": "markdown",
   "id": "8af38602",
   "metadata": {},
   "source": [
    "### Two-way ANOVA (w/o Interaction)"
   ]
  },
  {
   "cell_type": "code",
   "execution_count": 10,
   "id": "00103297",
   "metadata": {},
   "outputs": [
    {
     "data": {
      "text/html": [
       "<div>\n",
       "<style scoped>\n",
       "    .dataframe tbody tr th:only-of-type {\n",
       "        vertical-align: middle;\n",
       "    }\n",
       "\n",
       "    .dataframe tbody tr th {\n",
       "        vertical-align: top;\n",
       "    }\n",
       "\n",
       "    .dataframe thead th {\n",
       "        text-align: right;\n",
       "    }\n",
       "</style>\n",
       "<table border=\"1\" class=\"dataframe\">\n",
       "  <thead>\n",
       "    <tr style=\"text-align: right;\">\n",
       "      <th></th>\n",
       "      <th>A</th>\n",
       "      <th>B</th>\n",
       "      <th>C</th>\n",
       "    </tr>\n",
       "    <tr>\n",
       "      <th>Subject</th>\n",
       "      <th></th>\n",
       "      <th></th>\n",
       "      <th></th>\n",
       "    </tr>\n",
       "  </thead>\n",
       "  <tbody>\n",
       "    <tr>\n",
       "      <th>Sub1</th>\n",
       "      <td>1.38</td>\n",
       "      <td>0.53</td>\n",
       "      <td>3.24</td>\n",
       "    </tr>\n",
       "    <tr>\n",
       "      <th>Sub2</th>\n",
       "      <td>2.45</td>\n",
       "      <td>0.43</td>\n",
       "      <td>2.49</td>\n",
       "    </tr>\n",
       "    <tr>\n",
       "      <th>Sub3</th>\n",
       "      <td>1.22</td>\n",
       "      <td>1.54</td>\n",
       "      <td>5.48</td>\n",
       "    </tr>\n",
       "    <tr>\n",
       "      <th>Sub4</th>\n",
       "      <td>1.01</td>\n",
       "      <td>0.24</td>\n",
       "      <td>3.23</td>\n",
       "    </tr>\n",
       "    <tr>\n",
       "      <th>Sub5</th>\n",
       "      <td>2.19</td>\n",
       "      <td>0.54</td>\n",
       "      <td>1.09</td>\n",
       "    </tr>\n",
       "  </tbody>\n",
       "</table>\n",
       "</div>"
      ],
      "text/plain": [
       "            A     B     C\n",
       "Subject                  \n",
       "Sub1     1.38  0.53  3.24\n",
       "Sub2     2.45  0.43  2.49\n",
       "Sub3     1.22  1.54  5.48\n",
       "Sub4     1.01  0.24  3.23\n",
       "Sub5     2.19  0.54  1.09"
      ]
     },
     "metadata": {},
     "output_type": "display_data"
    },
    {
     "data": {
      "text/html": [
       "<div>\n",
       "<style scoped>\n",
       "    .dataframe tbody tr th:only-of-type {\n",
       "        vertical-align: middle;\n",
       "    }\n",
       "\n",
       "    .dataframe tbody tr th {\n",
       "        vertical-align: top;\n",
       "    }\n",
       "\n",
       "    .dataframe thead th {\n",
       "        text-align: right;\n",
       "    }\n",
       "</style>\n",
       "<table border=\"1\" class=\"dataframe\">\n",
       "  <thead>\n",
       "    <tr style=\"text-align: right;\">\n",
       "      <th></th>\n",
       "      <th>subject</th>\n",
       "      <th>method</th>\n",
       "      <th>result</th>\n",
       "    </tr>\n",
       "  </thead>\n",
       "  <tbody>\n",
       "    <tr>\n",
       "      <th>0</th>\n",
       "      <td>Sub1</td>\n",
       "      <td>A</td>\n",
       "      <td>1.38</td>\n",
       "    </tr>\n",
       "    <tr>\n",
       "      <th>1</th>\n",
       "      <td>Sub2</td>\n",
       "      <td>A</td>\n",
       "      <td>2.45</td>\n",
       "    </tr>\n",
       "    <tr>\n",
       "      <th>2</th>\n",
       "      <td>Sub3</td>\n",
       "      <td>A</td>\n",
       "      <td>1.22</td>\n",
       "    </tr>\n",
       "    <tr>\n",
       "      <th>3</th>\n",
       "      <td>Sub4</td>\n",
       "      <td>A</td>\n",
       "      <td>1.01</td>\n",
       "    </tr>\n",
       "    <tr>\n",
       "      <th>4</th>\n",
       "      <td>Sub5</td>\n",
       "      <td>A</td>\n",
       "      <td>2.19</td>\n",
       "    </tr>\n",
       "    <tr>\n",
       "      <th>5</th>\n",
       "      <td>Sub1</td>\n",
       "      <td>B</td>\n",
       "      <td>0.53</td>\n",
       "    </tr>\n",
       "    <tr>\n",
       "      <th>6</th>\n",
       "      <td>Sub2</td>\n",
       "      <td>B</td>\n",
       "      <td>0.43</td>\n",
       "    </tr>\n",
       "    <tr>\n",
       "      <th>7</th>\n",
       "      <td>Sub3</td>\n",
       "      <td>B</td>\n",
       "      <td>1.54</td>\n",
       "    </tr>\n",
       "    <tr>\n",
       "      <th>8</th>\n",
       "      <td>Sub4</td>\n",
       "      <td>B</td>\n",
       "      <td>0.24</td>\n",
       "    </tr>\n",
       "    <tr>\n",
       "      <th>9</th>\n",
       "      <td>Sub5</td>\n",
       "      <td>B</td>\n",
       "      <td>0.54</td>\n",
       "    </tr>\n",
       "    <tr>\n",
       "      <th>10</th>\n",
       "      <td>Sub1</td>\n",
       "      <td>C</td>\n",
       "      <td>3.24</td>\n",
       "    </tr>\n",
       "    <tr>\n",
       "      <th>11</th>\n",
       "      <td>Sub2</td>\n",
       "      <td>C</td>\n",
       "      <td>2.49</td>\n",
       "    </tr>\n",
       "    <tr>\n",
       "      <th>12</th>\n",
       "      <td>Sub3</td>\n",
       "      <td>C</td>\n",
       "      <td>5.48</td>\n",
       "    </tr>\n",
       "    <tr>\n",
       "      <th>13</th>\n",
       "      <td>Sub4</td>\n",
       "      <td>C</td>\n",
       "      <td>3.23</td>\n",
       "    </tr>\n",
       "    <tr>\n",
       "      <th>14</th>\n",
       "      <td>Sub5</td>\n",
       "      <td>C</td>\n",
       "      <td>1.09</td>\n",
       "    </tr>\n",
       "  </tbody>\n",
       "</table>\n",
       "</div>"
      ],
      "text/plain": [
       "   subject method  result\n",
       "0     Sub1      A    1.38\n",
       "1     Sub2      A    2.45\n",
       "2     Sub3      A    1.22\n",
       "3     Sub4      A    1.01\n",
       "4     Sub5      A    2.19\n",
       "5     Sub1      B    0.53\n",
       "6     Sub2      B    0.43\n",
       "7     Sub3      B    1.54\n",
       "8     Sub4      B    0.24\n",
       "9     Sub5      B    0.54\n",
       "10    Sub1      C    3.24\n",
       "11    Sub2      C    2.49\n",
       "12    Sub3      C    5.48\n",
       "13    Sub4      C    3.23\n",
       "14    Sub5      C    1.09"
      ]
     },
     "metadata": {},
     "output_type": "display_data"
    }
   ],
   "source": [
    "example = pd.DataFrame({'Subject': ['Sub1', 'Sub2', 'Sub3', 'Sub4', 'Sub5'], 'A': [1.38, 2.45, 1.22, 1.01, 2.19], 'B': [0.53, 0.43, 1.54, 0.24, 0.54], 'C': [3.24, 2.49, 5.48, 3.23, 1.09]})\n",
    "display(example.set_index('Subject'))\n",
    "\n",
    "example = pd.melt(example, id_vars=['Subject'], value_vars=['A', 'B', 'C'])\n",
    "example.columns = ['subject', 'method', 'result']\n",
    "display(example)"
   ]
  },
  {
   "cell_type": "code",
   "execution_count": 11,
   "id": "a215a8dd",
   "metadata": {},
   "outputs": [
    {
     "data": {
      "image/png": "[encoded data removed]",
      "text/plain": [
       "<Figure size 640x480 with 1 Axes>"
      ]
     },
     "metadata": {},
     "output_type": "display_data"
    },
    {
     "data": {
      "image/png": "[encoded data removed]",
      "text/plain": [
       "<Figure size 640x480 with 1 Axes>"
      ]
     },
     "metadata": {},
     "output_type": "display_data"
    }
   ],
   "source": [
    "sns.boxplot(x='subject', y='result', data=example)\n",
    "plt.show()\n",
    "\n",
    "sns.boxplot(x='method', y='result', data=example)\n",
    "plt.show()"
   ]
  },
  {
   "cell_type": "markdown",
   "id": "bb42b793",
   "metadata": {},
   "source": [
    "Null hypothesis 1: Regarding the cause 'subject', the mean of all populations is the same.  \n",
    "Alternative Hypothesis 1: Regarding the cause 'Subject', not all populations have the same mean.\n",
    "\n",
    "Null hypothesis 2: Regarding 'method', the means of all populations are equal.  \n",
    "Alternative Hypothesis 2: Regarding the cause 'method', not all populations have the same mean."
   ]
  },
  {
   "cell_type": "code",
   "execution_count": null,
   "id": "baa31182",
   "metadata": {},
   "outputs": [],
   "source": [
    "import statsmodels.api as sm\n",
    "from statsmodels.formula.api import ols\n",
    "\n",
    "model = ols('result ~ C(subject) + C(method)', data=example).fit()\n",
    "anova_table = sm.stats.anova_lm(model, typ=2)\n",
    "anova_table"
   ]
  },
  {
   "cell_type": "markdown",
   "id": "d4f61da4",
   "metadata": {},
   "source": [
    "Interpretation: Regarding the cause 'Subject', there is insufficient evidence to reject the null hypothesis because the P-value is 0.52. However, as for the cause 'Method', the P-value is less than 0.02, so there is sufficient grounds to reject the null hypothesis at the 98% confidence level.  \n",
    "=> Regarding the cause 'Subject', the average of all populations is the same. However, when it comes to the cause 'Method', the mean of all populations is not the same! (There are cases where the means of the population are different!)"
   ]
  },
  {
   "cell_type": "markdown",
   "id": "10560e70",
   "metadata": {},
   "source": [
    "## Practice"
   ]
  },
  {
   "cell_type": "markdown",
   "id": "30f4702f",
   "metadata": {},
   "source": [
    "### One-way ANOVA Practice\n",
    "The following are the results of IQ tests conducted by five people from each of the three cities.\n",
    "\n",
    "Check One-way ANOVA to see if the IQ averages of the three cities are the same."
   ]
  },
  {
   "cell_type": "code",
   "execution_count": null,
   "id": "f6c509f9",
   "metadata": {},
   "outputs": [],
   "source": [
    "iq = pd.DataFrame({'City A': [128, 147, 88, 110, 115], 'City B': [110, 113, 115, 107, 125], 'City C': [99, 102, 88, 155, 128]})\n",
    "display(iq)"
   ]
  },
  {
   "cell_type": "markdown",
   "id": "32f12130",
   "metadata": {},
   "source": [
    "First, draw for visual analysis."
   ]
  },
  {
   "cell_type": "code",
   "execution_count": null,
   "id": "4f53af5a",
   "metadata": {},
   "outputs": [],
   "source": [
    "iq_plot = pd.melt(iq.reset_index(), id_vars=['index'], value_vars=['City A', 'City B', 'City C'])\n",
    "iq_plot.columns = ['index', 'city', 'iq']\n",
    "\n",
    "ax = sns.boxplot(x='city', y='iq', data=iq_plot, color='#99c2a2')\n",
    "ax = sns.swarmplot(x='city', y='iq', data=iq_plot, color='#7d0013')\n",
    "plt.show()"
   ]
  },
  {
   "cell_type": "markdown",
   "id": "9ec9dd55",
   "metadata": {},
   "source": [
    "We now establish a hypothesis and perform a one-way ANOVA.\n",
    "\n",
    "Null hypothesis: The mean IQs of the three cities are equal to each other.  \n",
    "Alternative Hypothesis: The mean IQs in all three cities are not the same."
   ]
  },
  {
   "cell_type": "code",
   "execution_count": null,
   "id": "097a02a5",
   "metadata": {},
   "outputs": [],
   "source": [
    "fvalue, pvalue = stats.f_oneway(iq['City A'], iq['City B'], iq['City C'])\n",
    "print(fvalue, pvalue)"
   ]
  },
  {
   "cell_type": "markdown",
   "id": "5becac8e",
   "metadata": {},
   "source": [
    "Interpretation: With a P-value of 0.95, there is insufficient evidence to reject the null hypothesis.  \n",
    "=> The average IQs of the three cities are the same!"
   ]
  },
  {
   "cell_type": "markdown",
   "id": "7ecfd8d4",
   "metadata": {},
   "source": [
    "### Two-way ANOVA Practice\n",
    "The following is the result of three test drivers driving four different vehicles and measuring fuel efficiency. (However, it is assumed that there is no connection between the driver and the vehicle type.)\n",
    "\n",
    "Check the two-way ANOVA to see if the fuel economy averages between the test drivers are all the same, and if the fuel economy averages between the vehicles are all the same."
   ]
  },
  {
   "cell_type": "code",
   "execution_count": null,
   "id": "c04293fe",
   "metadata": {},
   "outputs": [],
   "source": [
    "fuel = pd.DataFrame({'Driver': ['Driver 1', 'Driver 2', 'Driver 3'], 'BMW': [10.45, 7.98, 14.23], 'Benz': [8.79, 7, 9.23], 'KIA': [10.1, 7.8, 9.58], 'Volvo': [15.09, 13.77, 15.07]})"
   ]
  },
  {
   "cell_type": "markdown",
   "id": "74cc063d",
   "metadata": {},
   "source": [
    "Draw boxplot"
   ]
  },
  {
   "cell_type": "code",
   "execution_count": null,
   "id": "8223dfb7",
   "metadata": {},
   "outputs": [],
   "source": [
    "fuel = pd.melt(fuel, id_vars=['Driver'], value_vars=['BMW', 'Benz', 'KIA', 'Volvo'])\n",
    "fuel.columns = ['Driver', 'Brand', 'Efficiency']\n",
    "\n",
    "sns.boxplot(x='Driver', y='Efficiency', data=fuel)\n",
    "plt.show()\n",
    "\n",
    "sns.boxplot(x='Brand', y='Efficiency', data=fuel)\n",
    "plt.show()"
   ]
  },
  {
   "cell_type": "markdown",
   "id": "fdb645e9",
   "metadata": {},
   "source": [
    "Null Hypothesis 1: The average fuel economy among test drivers is the same.  \n",
    "Alternative Hypothesis 1: Not all test drivers have the same fuel economy average. \n",
    "\n",
    "Null Hypothesis 2: The average fuel efficiency between models is the same.  \n",
    "Alternative Hypothesis 1: Not all fuel efficiency averages between vehicles are the same."
   ]
  },
  {
   "cell_type": "code",
   "execution_count": null,
   "id": "ce326d59",
   "metadata": {},
   "outputs": [],
   "source": [
    "model = ols('Efficiency ~ C(Driver) + C(Brand)', data=fuel).fit()\n",
    "anova_table = sm.stats.anova_lm(model, typ=2)\n",
    "anova_table"
   ]
  },
  {
   "cell_type": "markdown",
   "id": "1a8573a7",
   "metadata": {},
   "source": [
    "Interpretation: In both cases, the P-value is less than 0.05, so there is good grounds for rejecting each null hypothesis at the 95% confidence level.  \n",
    "=> There are cases where the fuel efficiency average is different between test drivers, and there are cases where the fuel efficiency average is different between vehicles."
   ]
  }
 ],
 "metadata": {
  "colab": {
   "provenance": []
  },
  "kernelspec": {
   "display_name": "Python 3 (ipykernel)",
   "language": "python",
   "name": "python3"
  },
  "language_info": {
   "codemirror_mode": {
    "name": "ipython",
    "version": 3
   },
   "file_extension": ".py",
   "mimetype": "text/x-python",
   "name": "python",
   "nbconvert_exporter": "python",
   "pygments_lexer": "ipython3",
   "version": "3.10.9"
  }
 },
 "nbformat": 4,
 "nbformat_minor": 5
}
