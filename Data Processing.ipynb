{
 "cells": [
  {
   "cell_type": "code",
   "execution_count": 1,
   "id": "9d302389",
   "metadata": {},
   "outputs": [
    {
     "name": "stdout",
     "output_type": "stream",
     "text": [
      "Collecting package metadata (current_repodata.json): done\n",
      "Solving environment: failed with initial frozen solve. Retrying with flexible solve.\n",
      "Collecting package metadata (repodata.json): done\n",
      "Solving environment: failed with initial frozen solve. Retrying with flexible solve.\n",
      "\n",
      "PackagesNotFoundError: The following packages are not available from current channels:\n",
      "\n",
      "  - matploblib\n",
      "\n",
      "Current channels:\n",
      "\n",
      "  - https://repo.anaconda.com/pkgs/main/osx-arm64\n",
      "  - https://repo.anaconda.com/pkgs/main/noarch\n",
      "  - https://repo.anaconda.com/pkgs/r/osx-arm64\n",
      "  - https://repo.anaconda.com/pkgs/r/noarch\n",
      "\n",
      "To search for alternate channels that may provide the conda package you're\n",
      "looking for, navigate to\n",
      "\n",
      "    https://anaconda.org\n",
      "\n",
      "and use the search bar at the top of the page.\n",
      "\n",
      "\n",
      "\n",
      "Note: you may need to restart the kernel to use updated packages.\n",
      "Requirement already satisfied: gdown in ./anaconda3/lib/python3.10/site-packages (4.7.1)\n",
      "Requirement already satisfied: requests[socks] in ./anaconda3/lib/python3.10/site-packages (from gdown) (2.28.1)\n",
      "Requirement already satisfied: six in ./anaconda3/lib/python3.10/site-packages (from gdown) (1.16.0)\n",
      "Requirement already satisfied: filelock in ./anaconda3/lib/python3.10/site-packages (from gdown) (3.9.0)\n",
      "Requirement already satisfied: tqdm in ./anaconda3/lib/python3.10/site-packages (from gdown) (4.64.1)\n",
      "Requirement already satisfied: beautifulsoup4 in ./anaconda3/lib/python3.10/site-packages (from gdown) (4.11.1)\n",
      "Requirement already satisfied: soupsieve>1.2 in ./anaconda3/lib/python3.10/site-packages (from beautifulsoup4->gdown) (2.3.2.post1)\n",
      "Requirement already satisfied: charset-normalizer<3,>=2 in ./anaconda3/lib/python3.10/site-packages (from requests[socks]->gdown) (2.0.4)\n",
      "Requirement already satisfied: certifi>=2017.4.17 in ./anaconda3/lib/python3.10/site-packages (from requests[socks]->gdown) (2023.7.22)\n",
      "Requirement already satisfied: idna<4,>=2.5 in ./anaconda3/lib/python3.10/site-packages (from requests[socks]->gdown) (3.4)\n",
      "Requirement already satisfied: urllib3<1.27,>=1.21.1 in ./anaconda3/lib/python3.10/site-packages (from requests[socks]->gdown) (1.26.14)\n",
      "Requirement already satisfied: PySocks!=1.5.7,>=1.5.6 in ./anaconda3/lib/python3.10/site-packages (from requests[socks]->gdown) (1.7.1)\n",
      "Note: you may need to restart the kernel to use updated packages.\n"
     ]
    }
   ],
   "source": [
    "%conda install matploblib -y\n",
    "%pip install gdown"
   ]
  },
  {
   "cell_type": "code",
   "execution_count": 2,
   "id": "239f67f8",
   "metadata": {},
   "outputs": [],
   "source": [
    "import matplotlib.pyplot as plt\n",
    "import gdown\n",
    "import pandas as pd\n",
    "import numpy as np"
   ]
  },
  {
   "cell_type": "markdown",
   "id": "9e62c615",
   "metadata": {},
   "source": [
    "## Importing Data"
   ]
  },
  {
   "cell_type": "markdown",
   "id": "0672b94f",
   "metadata": {},
   "source": [
    "### pandas, gdown "
   ]
  },
  {
   "cell_type": "code",
   "execution_count": 3,
   "id": "98d8e02e",
   "metadata": {},
   "outputs": [
    {
     "name": "stderr",
     "output_type": "stream",
     "text": [
      "Downloading...\n",
      "From: https://drive.google.com/uc?id=1LHvAYExWBy_c34JmqA_yAEL4u56ku2iE\n",
      "To: /Users/choijennifer/example_genome.csv\n",
      "100%|██████████████████████████████████████| 9.47k/9.47k [00:00<00:00, 4.05MB/s]\n"
     ]
    }
   ],
   "source": [
    "gdown.download(\"https://drive.google.com/uc?id=1LHvAYExWBy_c34JmqA_yAEL4u56ku2iE\", \"example_genome.csv\", quiet=False)\n",
    "example_genome = pd.read_csv('example_genome.csv')"
   ]
  },
  {
   "cell_type": "markdown",
   "id": "c4631d86",
   "metadata": {},
   "source": [
    "### Data"
   ]
  },
  {
   "cell_type": "code",
   "execution_count": 4,
   "id": "1569a326",
   "metadata": {},
   "outputs": [
    {
     "data": {
      "text/html": [
       "<div>\n",
       "<style scoped>\n",
       "    .dataframe tbody tr th:only-of-type {\n",
       "        vertical-align: middle;\n",
       "    }\n",
       "\n",
       "    .dataframe tbody tr th {\n",
       "        vertical-align: top;\n",
       "    }\n",
       "\n",
       "    .dataframe thead th {\n",
       "        text-align: right;\n",
       "    }\n",
       "</style>\n",
       "<table border=\"1\" class=\"dataframe\">\n",
       "  <thead>\n",
       "    <tr style=\"text-align: right;\">\n",
       "      <th></th>\n",
       "      <th>rsid</th>\n",
       "      <th>chromosome</th>\n",
       "      <th>position</th>\n",
       "      <th>genotype</th>\n",
       "    </tr>\n",
       "  </thead>\n",
       "  <tbody>\n",
       "    <tr>\n",
       "      <th>0</th>\n",
       "      <td>rs4477212</td>\n",
       "      <td>1</td>\n",
       "      <td>72017</td>\n",
       "      <td>AA</td>\n",
       "    </tr>\n",
       "    <tr>\n",
       "      <th>1</th>\n",
       "      <td>rs3094315</td>\n",
       "      <td>1</td>\n",
       "      <td>742429</td>\n",
       "      <td>NaN</td>\n",
       "    </tr>\n",
       "    <tr>\n",
       "      <th>2</th>\n",
       "      <td>rs3131972</td>\n",
       "      <td>1</td>\n",
       "      <td>742584</td>\n",
       "      <td>GG</td>\n",
       "    </tr>\n",
       "    <tr>\n",
       "      <th>3</th>\n",
       "      <td>rs12124819</td>\n",
       "      <td>1</td>\n",
       "      <td>766409</td>\n",
       "      <td>AA</td>\n",
       "    </tr>\n",
       "    <tr>\n",
       "      <th>4</th>\n",
       "      <td>rs11240777</td>\n",
       "      <td>1</td>\n",
       "      <td>788822</td>\n",
       "      <td>AG</td>\n",
       "    </tr>\n",
       "  </tbody>\n",
       "</table>\n",
       "</div>"
      ],
      "text/plain": [
       "         rsid  chromosome  position genotype\n",
       "0   rs4477212           1     72017       AA\n",
       "1   rs3094315           1    742429      NaN\n",
       "2   rs3131972           1    742584       GG\n",
       "3  rs12124819           1    766409       AA\n",
       "4  rs11240777           1    788822       AG"
      ]
     },
     "execution_count": 4,
     "metadata": {},
     "output_type": "execute_result"
    }
   ],
   "source": [
    "example_genome.head()"
   ]
  },
  {
   "cell_type": "markdown",
   "id": "935db91c",
   "metadata": {},
   "source": [
    "#### Specify rsid as index instead of numeric index (0, 1, 2, ...)"
   ]
  },
  {
   "cell_type": "code",
   "execution_count": 5,
   "id": "7004cd17",
   "metadata": {},
   "outputs": [
    {
     "data": {
      "text/html": [
       "<div>\n",
       "<style scoped>\n",
       "    .dataframe tbody tr th:only-of-type {\n",
       "        vertical-align: middle;\n",
       "    }\n",
       "\n",
       "    .dataframe tbody tr th {\n",
       "        vertical-align: top;\n",
       "    }\n",
       "\n",
       "    .dataframe thead th {\n",
       "        text-align: right;\n",
       "    }\n",
       "</style>\n",
       "<table border=\"1\" class=\"dataframe\">\n",
       "  <thead>\n",
       "    <tr style=\"text-align: right;\">\n",
       "      <th></th>\n",
       "      <th>chromosome</th>\n",
       "      <th>position</th>\n",
       "      <th>genotype</th>\n",
       "    </tr>\n",
       "    <tr>\n",
       "      <th>rsid</th>\n",
       "      <th></th>\n",
       "      <th></th>\n",
       "      <th></th>\n",
       "    </tr>\n",
       "  </thead>\n",
       "  <tbody>\n",
       "    <tr>\n",
       "      <th>rs4477212</th>\n",
       "      <td>1</td>\n",
       "      <td>72017</td>\n",
       "      <td>AA</td>\n",
       "    </tr>\n",
       "    <tr>\n",
       "      <th>rs3094315</th>\n",
       "      <td>1</td>\n",
       "      <td>742429</td>\n",
       "      <td>NaN</td>\n",
       "    </tr>\n",
       "    <tr>\n",
       "      <th>rs3131972</th>\n",
       "      <td>1</td>\n",
       "      <td>742584</td>\n",
       "      <td>GG</td>\n",
       "    </tr>\n",
       "    <tr>\n",
       "      <th>rs12124819</th>\n",
       "      <td>1</td>\n",
       "      <td>766409</td>\n",
       "      <td>AA</td>\n",
       "    </tr>\n",
       "    <tr>\n",
       "      <th>rs11240777</th>\n",
       "      <td>1</td>\n",
       "      <td>788822</td>\n",
       "      <td>AG</td>\n",
       "    </tr>\n",
       "  </tbody>\n",
       "</table>\n",
       "</div>"
      ],
      "text/plain": [
       "            chromosome  position genotype\n",
       "rsid                                     \n",
       "rs4477212            1     72017       AA\n",
       "rs3094315            1    742429      NaN\n",
       "rs3131972            1    742584       GG\n",
       "rs12124819           1    766409       AA\n",
       "rs11240777           1    788822       AG"
      ]
     },
     "execution_count": 5,
     "metadata": {},
     "output_type": "execute_result"
    }
   ],
   "source": [
    "example_genome_idx = example_genome.set_index('rsid')\n",
    "example_genome_idx.head()"
   ]
  },
  {
   "cell_type": "markdown",
   "id": "4692f68b",
   "metadata": {},
   "source": [
    "#### Identify data types"
   ]
  },
  {
   "cell_type": "code",
   "execution_count": 6,
   "id": "b9268bb8",
   "metadata": {},
   "outputs": [
    {
     "name": "stdout",
     "output_type": "stream",
     "text": [
      "<class 'pandas.core.frame.DataFrame'>\n",
      "RangeIndex: 393 entries, 0 to 392\n",
      "Data columns (total 4 columns):\n",
      " #   Column      Non-Null Count  Dtype \n",
      "---  ------      --------------  ----- \n",
      " 0   rsid        393 non-null    object\n",
      " 1   chromosome  393 non-null    int64 \n",
      " 2   position    393 non-null    int64 \n",
      " 3   genotype    385 non-null    object\n",
      "dtypes: int64(2), object(2)\n",
      "memory usage: 12.4+ KB\n"
     ]
    }
   ],
   "source": [
    "example_genome.info()"
   ]
  },
  {
   "cell_type": "markdown",
   "id": "e87eecc1",
   "metadata": {},
   "source": [
    "#### Identify missing values"
   ]
  },
  {
   "cell_type": "code",
   "execution_count": 7,
   "id": "d50197fb",
   "metadata": {},
   "outputs": [
    {
     "data": {
      "text/plain": [
       "rsid          False\n",
       "chromosome    False\n",
       "position      False\n",
       "genotype       True\n",
       "dtype: bool"
      ]
     },
     "execution_count": 7,
     "metadata": {},
     "output_type": "execute_result"
    }
   ],
   "source": [
    "# 어떤 열에 결측치가 있는지 확인\n",
    "example_genome.isnull().any()"
   ]
  },
  {
   "cell_type": "code",
   "execution_count": 8,
   "id": "88247600",
   "metadata": {},
   "outputs": [
    {
     "data": {
      "text/plain": [
       "8"
      ]
     },
     "execution_count": 8,
     "metadata": {},
     "output_type": "execute_result"
    }
   ],
   "source": [
    "# 해당 열의 결측치 수 확인\n",
    "example_genome['genotype'].isnull().sum()"
   ]
  },
  {
   "cell_type": "markdown",
   "id": "4344bb1c",
   "metadata": {},
   "source": [
    "### Processing missing values"
   ]
  },
  {
   "cell_type": "code",
   "execution_count": 9,
   "id": "2257e904",
   "metadata": {},
   "outputs": [
    {
     "data": {
      "text/html": [
       "<div>\n",
       "<style scoped>\n",
       "    .dataframe tbody tr th:only-of-type {\n",
       "        vertical-align: middle;\n",
       "    }\n",
       "\n",
       "    .dataframe tbody tr th {\n",
       "        vertical-align: top;\n",
       "    }\n",
       "\n",
       "    .dataframe thead th {\n",
       "        text-align: right;\n",
       "    }\n",
       "</style>\n",
       "<table border=\"1\" class=\"dataframe\">\n",
       "  <thead>\n",
       "    <tr style=\"text-align: right;\">\n",
       "      <th></th>\n",
       "      <th>rsid</th>\n",
       "      <th>chromosome</th>\n",
       "      <th>position</th>\n",
       "      <th>genotype</th>\n",
       "    </tr>\n",
       "  </thead>\n",
       "  <tbody>\n",
       "    <tr>\n",
       "      <th>0</th>\n",
       "      <td>rs4477212</td>\n",
       "      <td>1</td>\n",
       "      <td>72017</td>\n",
       "      <td>AA</td>\n",
       "    </tr>\n",
       "    <tr>\n",
       "      <th>2</th>\n",
       "      <td>rs3131972</td>\n",
       "      <td>1</td>\n",
       "      <td>742584</td>\n",
       "      <td>GG</td>\n",
       "    </tr>\n",
       "    <tr>\n",
       "      <th>3</th>\n",
       "      <td>rs12124819</td>\n",
       "      <td>1</td>\n",
       "      <td>766409</td>\n",
       "      <td>AA</td>\n",
       "    </tr>\n",
       "    <tr>\n",
       "      <th>4</th>\n",
       "      <td>rs11240777</td>\n",
       "      <td>1</td>\n",
       "      <td>788822</td>\n",
       "      <td>AG</td>\n",
       "    </tr>\n",
       "    <tr>\n",
       "      <th>5</th>\n",
       "      <td>rs6681049</td>\n",
       "      <td>1</td>\n",
       "      <td>789870</td>\n",
       "      <td>CC</td>\n",
       "    </tr>\n",
       "    <tr>\n",
       "      <th>...</th>\n",
       "      <td>...</td>\n",
       "      <td>...</td>\n",
       "      <td>...</td>\n",
       "      <td>...</td>\n",
       "    </tr>\n",
       "    <tr>\n",
       "      <th>387</th>\n",
       "      <td>rs6671420</td>\n",
       "      <td>1</td>\n",
       "      <td>2328739</td>\n",
       "      <td>AA</td>\n",
       "    </tr>\n",
       "    <tr>\n",
       "      <th>389</th>\n",
       "      <td>rs61750434</td>\n",
       "      <td>1</td>\n",
       "      <td>2329978</td>\n",
       "      <td>GG</td>\n",
       "    </tr>\n",
       "    <tr>\n",
       "      <th>390</th>\n",
       "      <td>rs11811122</td>\n",
       "      <td>1</td>\n",
       "      <td>2335826</td>\n",
       "      <td>TT</td>\n",
       "    </tr>\n",
       "    <tr>\n",
       "      <th>391</th>\n",
       "      <td>rs3935659</td>\n",
       "      <td>1</td>\n",
       "      <td>2341559</td>\n",
       "      <td>TT</td>\n",
       "    </tr>\n",
       "    <tr>\n",
       "      <th>392</th>\n",
       "      <td>rs12731309</td>\n",
       "      <td>1</td>\n",
       "      <td>2342006</td>\n",
       "      <td>CT</td>\n",
       "    </tr>\n",
       "  </tbody>\n",
       "</table>\n",
       "<p>385 rows × 4 columns</p>\n",
       "</div>"
      ],
      "text/plain": [
       "           rsid  chromosome  position genotype\n",
       "0     rs4477212           1     72017       AA\n",
       "2     rs3131972           1    742584       GG\n",
       "3    rs12124819           1    766409       AA\n",
       "4    rs11240777           1    788822       AG\n",
       "5     rs6681049           1    789870       CC\n",
       "..          ...         ...       ...      ...\n",
       "387   rs6671420           1   2328739       AA\n",
       "389  rs61750434           1   2329978       GG\n",
       "390  rs11811122           1   2335826       TT\n",
       "391   rs3935659           1   2341559       TT\n",
       "392  rs12731309           1   2342006       CT\n",
       "\n",
       "[385 rows x 4 columns]"
      ]
     },
     "metadata": {},
     "output_type": "display_data"
    },
    {
     "data": {
      "text/html": [
       "<div>\n",
       "<style scoped>\n",
       "    .dataframe tbody tr th:only-of-type {\n",
       "        vertical-align: middle;\n",
       "    }\n",
       "\n",
       "    .dataframe tbody tr th {\n",
       "        vertical-align: top;\n",
       "    }\n",
       "\n",
       "    .dataframe thead th {\n",
       "        text-align: right;\n",
       "    }\n",
       "</style>\n",
       "<table border=\"1\" class=\"dataframe\">\n",
       "  <thead>\n",
       "    <tr style=\"text-align: right;\">\n",
       "      <th></th>\n",
       "      <th>rsid</th>\n",
       "      <th>chromosome</th>\n",
       "      <th>position</th>\n",
       "      <th>genotype</th>\n",
       "    </tr>\n",
       "  </thead>\n",
       "  <tbody>\n",
       "    <tr>\n",
       "      <th>0</th>\n",
       "      <td>rs4477212</td>\n",
       "      <td>1</td>\n",
       "      <td>72017</td>\n",
       "      <td>AA</td>\n",
       "    </tr>\n",
       "    <tr>\n",
       "      <th>1</th>\n",
       "      <td>rs3094315</td>\n",
       "      <td>1</td>\n",
       "      <td>742429</td>\n",
       "      <td>GG</td>\n",
       "    </tr>\n",
       "    <tr>\n",
       "      <th>2</th>\n",
       "      <td>rs3131972</td>\n",
       "      <td>1</td>\n",
       "      <td>742584</td>\n",
       "      <td>GG</td>\n",
       "    </tr>\n",
       "    <tr>\n",
       "      <th>3</th>\n",
       "      <td>rs12124819</td>\n",
       "      <td>1</td>\n",
       "      <td>766409</td>\n",
       "      <td>AA</td>\n",
       "    </tr>\n",
       "    <tr>\n",
       "      <th>4</th>\n",
       "      <td>rs11240777</td>\n",
       "      <td>1</td>\n",
       "      <td>788822</td>\n",
       "      <td>AG</td>\n",
       "    </tr>\n",
       "    <tr>\n",
       "      <th>...</th>\n",
       "      <td>...</td>\n",
       "      <td>...</td>\n",
       "      <td>...</td>\n",
       "      <td>...</td>\n",
       "    </tr>\n",
       "    <tr>\n",
       "      <th>388</th>\n",
       "      <td>rs2494428</td>\n",
       "      <td>1</td>\n",
       "      <td>2328934</td>\n",
       "      <td>GG</td>\n",
       "    </tr>\n",
       "    <tr>\n",
       "      <th>389</th>\n",
       "      <td>rs61750434</td>\n",
       "      <td>1</td>\n",
       "      <td>2329978</td>\n",
       "      <td>GG</td>\n",
       "    </tr>\n",
       "    <tr>\n",
       "      <th>390</th>\n",
       "      <td>rs11811122</td>\n",
       "      <td>1</td>\n",
       "      <td>2335826</td>\n",
       "      <td>TT</td>\n",
       "    </tr>\n",
       "    <tr>\n",
       "      <th>391</th>\n",
       "      <td>rs3935659</td>\n",
       "      <td>1</td>\n",
       "      <td>2341559</td>\n",
       "      <td>TT</td>\n",
       "    </tr>\n",
       "    <tr>\n",
       "      <th>392</th>\n",
       "      <td>rs12731309</td>\n",
       "      <td>1</td>\n",
       "      <td>2342006</td>\n",
       "      <td>CT</td>\n",
       "    </tr>\n",
       "  </tbody>\n",
       "</table>\n",
       "<p>393 rows × 4 columns</p>\n",
       "</div>"
      ],
      "text/plain": [
       "           rsid  chromosome  position genotype\n",
       "0     rs4477212           1     72017       AA\n",
       "1     rs3094315           1    742429       GG\n",
       "2     rs3131972           1    742584       GG\n",
       "3    rs12124819           1    766409       AA\n",
       "4    rs11240777           1    788822       AG\n",
       "..          ...         ...       ...      ...\n",
       "388   rs2494428           1   2328934       GG\n",
       "389  rs61750434           1   2329978       GG\n",
       "390  rs11811122           1   2335826       TT\n",
       "391   rs3935659           1   2341559       TT\n",
       "392  rs12731309           1   2342006       CT\n",
       "\n",
       "[393 rows x 4 columns]"
      ]
     },
     "metadata": {},
     "output_type": "display_data"
    },
    {
     "data": {
      "text/html": [
       "<div>\n",
       "<style scoped>\n",
       "    .dataframe tbody tr th:only-of-type {\n",
       "        vertical-align: middle;\n",
       "    }\n",
       "\n",
       "    .dataframe tbody tr th {\n",
       "        vertical-align: top;\n",
       "    }\n",
       "\n",
       "    .dataframe thead th {\n",
       "        text-align: right;\n",
       "    }\n",
       "</style>\n",
       "<table border=\"1\" class=\"dataframe\">\n",
       "  <thead>\n",
       "    <tr style=\"text-align: right;\">\n",
       "      <th></th>\n",
       "      <th>rsid</th>\n",
       "      <th>chromosome</th>\n",
       "      <th>position</th>\n",
       "      <th>genotype</th>\n",
       "    </tr>\n",
       "  </thead>\n",
       "  <tbody>\n",
       "    <tr>\n",
       "      <th>0</th>\n",
       "      <td>rs4477212</td>\n",
       "      <td>1</td>\n",
       "      <td>72017</td>\n",
       "      <td>AA</td>\n",
       "    </tr>\n",
       "    <tr>\n",
       "      <th>1</th>\n",
       "      <td>rs3094315</td>\n",
       "      <td>1</td>\n",
       "      <td>742429</td>\n",
       "      <td>AA</td>\n",
       "    </tr>\n",
       "    <tr>\n",
       "      <th>2</th>\n",
       "      <td>rs3131972</td>\n",
       "      <td>1</td>\n",
       "      <td>742584</td>\n",
       "      <td>GG</td>\n",
       "    </tr>\n",
       "    <tr>\n",
       "      <th>3</th>\n",
       "      <td>rs12124819</td>\n",
       "      <td>1</td>\n",
       "      <td>766409</td>\n",
       "      <td>AA</td>\n",
       "    </tr>\n",
       "    <tr>\n",
       "      <th>4</th>\n",
       "      <td>rs11240777</td>\n",
       "      <td>1</td>\n",
       "      <td>788822</td>\n",
       "      <td>AG</td>\n",
       "    </tr>\n",
       "    <tr>\n",
       "      <th>...</th>\n",
       "      <td>...</td>\n",
       "      <td>...</td>\n",
       "      <td>...</td>\n",
       "      <td>...</td>\n",
       "    </tr>\n",
       "    <tr>\n",
       "      <th>388</th>\n",
       "      <td>rs2494428</td>\n",
       "      <td>1</td>\n",
       "      <td>2328934</td>\n",
       "      <td>AA</td>\n",
       "    </tr>\n",
       "    <tr>\n",
       "      <th>389</th>\n",
       "      <td>rs61750434</td>\n",
       "      <td>1</td>\n",
       "      <td>2329978</td>\n",
       "      <td>GG</td>\n",
       "    </tr>\n",
       "    <tr>\n",
       "      <th>390</th>\n",
       "      <td>rs11811122</td>\n",
       "      <td>1</td>\n",
       "      <td>2335826</td>\n",
       "      <td>TT</td>\n",
       "    </tr>\n",
       "    <tr>\n",
       "      <th>391</th>\n",
       "      <td>rs3935659</td>\n",
       "      <td>1</td>\n",
       "      <td>2341559</td>\n",
       "      <td>TT</td>\n",
       "    </tr>\n",
       "    <tr>\n",
       "      <th>392</th>\n",
       "      <td>rs12731309</td>\n",
       "      <td>1</td>\n",
       "      <td>2342006</td>\n",
       "      <td>CT</td>\n",
       "    </tr>\n",
       "  </tbody>\n",
       "</table>\n",
       "<p>393 rows × 4 columns</p>\n",
       "</div>"
      ],
      "text/plain": [
       "           rsid  chromosome  position genotype\n",
       "0     rs4477212           1     72017       AA\n",
       "1     rs3094315           1    742429       AA\n",
       "2     rs3131972           1    742584       GG\n",
       "3    rs12124819           1    766409       AA\n",
       "4    rs11240777           1    788822       AG\n",
       "..          ...         ...       ...      ...\n",
       "388   rs2494428           1   2328934       AA\n",
       "389  rs61750434           1   2329978       GG\n",
       "390  rs11811122           1   2335826       TT\n",
       "391   rs3935659           1   2341559       TT\n",
       "392  rs12731309           1   2342006       CT\n",
       "\n",
       "[393 rows x 4 columns]"
      ]
     },
     "metadata": {},
     "output_type": "display_data"
    },
    {
     "data": {
      "text/html": [
       "<div>\n",
       "<style scoped>\n",
       "    .dataframe tbody tr th:only-of-type {\n",
       "        vertical-align: middle;\n",
       "    }\n",
       "\n",
       "    .dataframe tbody tr th {\n",
       "        vertical-align: top;\n",
       "    }\n",
       "\n",
       "    .dataframe thead th {\n",
       "        text-align: right;\n",
       "    }\n",
       "</style>\n",
       "<table border=\"1\" class=\"dataframe\">\n",
       "  <thead>\n",
       "    <tr style=\"text-align: right;\">\n",
       "      <th></th>\n",
       "      <th>rsid</th>\n",
       "      <th>chromosome</th>\n",
       "      <th>position</th>\n",
       "      <th>genotype</th>\n",
       "    </tr>\n",
       "  </thead>\n",
       "  <tbody>\n",
       "    <tr>\n",
       "      <th>0</th>\n",
       "      <td>rs4477212</td>\n",
       "      <td>1</td>\n",
       "      <td>72017</td>\n",
       "      <td>AA</td>\n",
       "    </tr>\n",
       "    <tr>\n",
       "      <th>1</th>\n",
       "      <td>rs3094315</td>\n",
       "      <td>1</td>\n",
       "      <td>742429</td>\n",
       "      <td>CC</td>\n",
       "    </tr>\n",
       "    <tr>\n",
       "      <th>2</th>\n",
       "      <td>rs3131972</td>\n",
       "      <td>1</td>\n",
       "      <td>742584</td>\n",
       "      <td>GG</td>\n",
       "    </tr>\n",
       "    <tr>\n",
       "      <th>3</th>\n",
       "      <td>rs12124819</td>\n",
       "      <td>1</td>\n",
       "      <td>766409</td>\n",
       "      <td>AA</td>\n",
       "    </tr>\n",
       "    <tr>\n",
       "      <th>4</th>\n",
       "      <td>rs11240777</td>\n",
       "      <td>1</td>\n",
       "      <td>788822</td>\n",
       "      <td>AG</td>\n",
       "    </tr>\n",
       "    <tr>\n",
       "      <th>...</th>\n",
       "      <td>...</td>\n",
       "      <td>...</td>\n",
       "      <td>...</td>\n",
       "      <td>...</td>\n",
       "    </tr>\n",
       "    <tr>\n",
       "      <th>388</th>\n",
       "      <td>rs2494428</td>\n",
       "      <td>1</td>\n",
       "      <td>2328934</td>\n",
       "      <td>CC</td>\n",
       "    </tr>\n",
       "    <tr>\n",
       "      <th>389</th>\n",
       "      <td>rs61750434</td>\n",
       "      <td>1</td>\n",
       "      <td>2329978</td>\n",
       "      <td>GG</td>\n",
       "    </tr>\n",
       "    <tr>\n",
       "      <th>390</th>\n",
       "      <td>rs11811122</td>\n",
       "      <td>1</td>\n",
       "      <td>2335826</td>\n",
       "      <td>TT</td>\n",
       "    </tr>\n",
       "    <tr>\n",
       "      <th>391</th>\n",
       "      <td>rs3935659</td>\n",
       "      <td>1</td>\n",
       "      <td>2341559</td>\n",
       "      <td>TT</td>\n",
       "    </tr>\n",
       "    <tr>\n",
       "      <th>392</th>\n",
       "      <td>rs12731309</td>\n",
       "      <td>1</td>\n",
       "      <td>2342006</td>\n",
       "      <td>CT</td>\n",
       "    </tr>\n",
       "  </tbody>\n",
       "</table>\n",
       "<p>393 rows × 4 columns</p>\n",
       "</div>"
      ],
      "text/plain": [
       "           rsid  chromosome  position genotype\n",
       "0     rs4477212           1     72017       AA\n",
       "1     rs3094315           1    742429       CC\n",
       "2     rs3131972           1    742584       GG\n",
       "3    rs12124819           1    766409       AA\n",
       "4    rs11240777           1    788822       AG\n",
       "..          ...         ...       ...      ...\n",
       "388   rs2494428           1   2328934       CC\n",
       "389  rs61750434           1   2329978       GG\n",
       "390  rs11811122           1   2335826       TT\n",
       "391   rs3935659           1   2341559       TT\n",
       "392  rs12731309           1   2342006       CT\n",
       "\n",
       "[393 rows x 4 columns]"
      ]
     },
     "metadata": {},
     "output_type": "display_data"
    }
   ],
   "source": [
    "# 결측치를 포함하는 행 자체를 제거\n",
    "display(example_genome.dropna())\n",
    "\n",
    "## 결측치를 적절한 값으로 대체\n",
    "# 결측치 바로 뒤의 값으로 대체\n",
    "display(example_genome.fillna(method=\"backfill\"))\n",
    "\n",
    "# 결측치 바로 앞의 값으로 대체\n",
    "display(example_genome.fillna(method=\"ffill\"))\n",
    "\n",
    "# 최빈값으로 대체\n",
    "display(example_genome.fillna(example_genome.mode()[\"genotype\"][0]))"
   ]
  },
  {
   "cell_type": "markdown",
   "id": "950fc186",
   "metadata": {},
   "source": [
    "## Processing Outliers"
   ]
  },
  {
   "cell_type": "markdown",
   "id": "e0b2fe04",
   "metadata": {},
   "source": [
    "### standardizing method"
   ]
  },
  {
   "cell_type": "code",
   "execution_count": 10,
   "id": "664435f3",
   "metadata": {},
   "outputs": [],
   "source": [
    "def std_outlier(data):\n",
    "    for i in range(len(data.iloc[1])):\n",
    "        print(f\"mean: {data.iloc[:, i].mean()}\")\n",
    "        print(f\"std: {data.iloc[:, i].std()}\")\n",
    "        data = data[~(np.abs(data.iloc[:, i] - data.iloc[:, i].mean()) > (3 * data.iloc[:, i].std()))]\n",
    "    \n",
    "    data = data.reset_index(drop=True)\n",
    "    return data"
   ]
  },
  {
   "cell_type": "markdown",
   "id": "925eeffe",
   "metadata": {},
   "source": [
    "### IQR method"
   ]
  },
  {
   "cell_type": "code",
   "execution_count": 11,
   "id": "59fea09c",
   "metadata": {},
   "outputs": [],
   "source": [
    "def iqr_outlier(data):\n",
    "    for i in range(len(data.iloc[1])):\n",
    "        q1, q3 = np.percentile(data.iloc[:, i], [25, 75])\n",
    "        print(f\"q1: {q1}\")\n",
    "        print(f\"q3: {q3}\")\n",
    "\n",
    "        iqr = q3 - q1\n",
    "        lower = q1 - (iqr * 1.5)\n",
    "        upper = q3 + (iqr * 1.5)\n",
    "        print(f\"lower: {lower}\")\n",
    "        print(f\"upper: {upper}\")\n",
    "\n",
    "        data = data[data.iloc[:, i] < upper]\n",
    "        data = data[data.iloc[:, i] > lower]\n",
    "        \n",
    "    data = data.reset_index(drop=True)\n",
    "    return data"
   ]
  },
  {
   "cell_type": "markdown",
   "id": "75236415",
   "metadata": {},
   "source": [
    "### Practice"
   ]
  },
  {
   "cell_type": "code",
   "execution_count": 12,
   "id": "403e666e",
   "metadata": {},
   "outputs": [
    {
     "data": {
      "text/plain": [
       "<Axes: xlabel='X', ylabel='Y'>"
      ]
     },
     "execution_count": 12,
     "metadata": {},
     "output_type": "execute_result"
    },
    {
     "data": {
      "image/png": "[encoded data removed]",
      "text/plain": [
       "<Figure size 640x480 with 1 Axes>"
      ]
     },
     "metadata": {},
     "output_type": "display_data"
    }
   ],
   "source": [
    "example = pd.DataFrame([1, 2, 1, 2, 1, 2, 1, 100, 2, 1, 2, 1, 2, 1, -10, 2, 1, 2, 1, 2, 1, 2, 1, 2, 1, 2, 1, 2, 1])\n",
    "example.plot(legend=False, xlabel=\"X\", ylabel=\"Y\")"
   ]
  },
  {
   "cell_type": "code",
   "execution_count": 13,
   "id": "1effb1bd",
   "metadata": {},
   "outputs": [
    {
     "name": "stdout",
     "output_type": "stream",
     "text": [
      "mean: 4.482758620689655\n",
      "std: 18.500232990145157\n"
     ]
    },
    {
     "data": {
      "text/plain": [
       "<Axes: xlabel='X', ylabel='Y'>"
      ]
     },
     "execution_count": 13,
     "metadata": {},
     "output_type": "execute_result"
    },
    {
     "data": {
      "image/png": "[encoded data removed]",
      "text/plain": [
       "<Figure size 640x480 with 1 Axes>"
      ]
     },
     "metadata": {},
     "output_type": "display_data"
    }
   ],
   "source": [
    "# Standarization method\n",
    "wo_outlier = std_outlier(example)\n",
    "wo_outlier.plot(legend=False, xlabel=\"X\", ylabel=\"Y\")"
   ]
  },
  {
   "cell_type": "code",
   "execution_count": 14,
   "id": "78b3683a",
   "metadata": {},
   "outputs": [
    {
     "name": "stdout",
     "output_type": "stream",
     "text": [
      "q1: 1.0\n",
      "q3: 2.0\n",
      "lower: -0.5\n",
      "upper: 3.5\n"
     ]
    },
    {
     "data": {
      "text/plain": [
       "<Axes: xlabel='X', ylabel='Y'>"
      ]
     },
     "execution_count": 14,
     "metadata": {},
     "output_type": "execute_result"
    },
    {
     "data": {
      "image/png": "[encoded data removed]",
      "text/plain": [
       "<Figure size 640x480 with 1 Axes>"
      ]
     },
     "metadata": {},
     "output_type": "display_data"
    }
   ],
   "source": [
    "# IQR method\n",
    "wo_outlier = iqr_outlier(example)\n",
    "wo_outlier.plot(legend=False, xlabel=\"X\", ylabel=\"Y\")"
   ]
  },
  {
   "cell_type": "markdown",
   "id": "c6a2f4b5",
   "metadata": {},
   "source": [
    "## Converting data distribution"
   ]
  },
  {
   "cell_type": "code",
   "execution_count": 15,
   "id": "d4ef8a85",
   "metadata": {},
   "outputs": [
    {
     "data": {
      "text/plain": [
       "<Axes: xlabel='X', ylabel='Y'>"
      ]
     },
     "execution_count": 15,
     "metadata": {},
     "output_type": "execute_result"
    },
    {
     "data": {
      "image/png": "[encoded data removed]",
      "text/plain": [
       "<Figure size 640x480 with 1 Axes>"
      ]
     },
     "metadata": {},
     "output_type": "display_data"
    }
   ],
   "source": [
    "example = pd.DataFrame({'number': [1, 10, 100, 10, 100, 10, 10000, 1000, 100, 10, 100, 1, 1, 10, 1000, 10, 1, 10, 100, 1, 10, 10, 100, 1000, 100, 10, 100, 10]})\n",
    "example.plot(legend=False, xlabel=\"X\", ylabel=\"Y\")"
   ]
  },
  {
   "cell_type": "code",
   "execution_count": 16,
   "id": "f4e867c2",
   "metadata": {},
   "outputs": [
    {
     "data": {
      "text/plain": [
       "<Axes: >"
      ]
     },
     "execution_count": 16,
     "metadata": {},
     "output_type": "execute_result"
    },
    {
     "data": {
      "image/png": "[encoded data removed]",
      "text/plain": [
       "<Figure size 640x480 with 1 Axes>"
      ]
     },
     "metadata": {},
     "output_type": "display_data"
    }
   ],
   "source": [
    "from sklearn import preprocessing\n",
    "\n",
    "example['number_log'] = preprocessing.scale(np.log(example['number']))\n",
    "example['number_log'].plot()"
   ]
  },
  {
   "cell_type": "markdown",
   "id": "0e40f5f1",
   "metadata": {},
   "source": [
    "## Converting data units"
   ]
  },
  {
   "cell_type": "code",
   "execution_count": 17,
   "id": "d5b8551f",
   "metadata": {},
   "outputs": [
    {
     "data": {
      "text/plain": [
       "<Axes: xlabel='X', ylabel='Y'>"
      ]
     },
     "execution_count": 17,
     "metadata": {},
     "output_type": "execute_result"
    },
    {
     "data": {
      "image/png": "[encoded data removed]",
      "text/plain": [
       "<Figure size 640x480 with 1 Axes>"
      ]
     },
     "metadata": {},
     "output_type": "display_data"
    }
   ],
   "source": [
    "raw_1 = [1, 2, 1, 2, 3, 2, 5, 1, 0, 2, 1, 2, 4, 0, 1, 2, 3, 4, 5, 2, 1, 1, 2, 1, 3, 4, 2, 1]\n",
    "raw_2 = map(lambda x: x + 1000, raw_1)\n",
    "\n",
    "example = pd.DataFrame({'number_1': raw_1, 'number_2': raw_2})\n",
    "example.plot(xlabel=\"X\", ylabel=\"Y\")"
   ]
  },
  {
   "cell_type": "markdown",
   "id": "6df3e80c",
   "metadata": {},
   "source": [
    "### Standarization"
   ]
  },
  {
   "cell_type": "code",
   "execution_count": 18,
   "id": "fa4653c3",
   "metadata": {},
   "outputs": [
    {
     "data": {
      "text/plain": [
       "<Axes: xlabel='X', ylabel='Y'>"
      ]
     },
     "execution_count": 18,
     "metadata": {},
     "output_type": "execute_result"
    },
    {
     "data": {
      "image/png": "[encoded data removed]",
      "text/plain": [
       "<Figure size 640x480 with 1 Axes>"
      ]
     },
     "metadata": {},
     "output_type": "display_data"
    }
   ],
   "source": [
    "example_norm = example\n",
    "example_norm['number_1'] = preprocessing.scale(example['number_1'])\n",
    "example_norm['number_1'].plot(xlabel=\"X\", ylabel=\"Y\")"
   ]
  },
  {
   "cell_type": "code",
   "execution_count": 19,
   "id": "ceaf032c",
   "metadata": {},
   "outputs": [
    {
     "data": {
      "text/plain": [
       "<Axes: xlabel='X', ylabel='Y'>"
      ]
     },
     "execution_count": 19,
     "metadata": {},
     "output_type": "execute_result"
    },
    {
     "data": {
      "image/png": "[encoded data removed]",
      "text/plain": [
       "<Figure size 640x480 with 1 Axes>"
      ]
     },
     "metadata": {},
     "output_type": "display_data"
    }
   ],
   "source": [
    "example_norm['number_2'] = preprocessing.scale(example['number_2'])\n",
    "example_norm['number_2'].plot(xlabel=\"X\", ylabel=\"Y\")"
   ]
  },
  {
   "cell_type": "markdown",
   "id": "4d4162f9",
   "metadata": {},
   "source": [
    "### IQR Scaling"
   ]
  },
  {
   "cell_type": "code",
   "execution_count": 20,
   "id": "c7c21c7d",
   "metadata": {},
   "outputs": [
    {
     "data": {
      "text/plain": [
       "<Axes: xlabel='X', ylabel='Y'>"
      ]
     },
     "execution_count": 20,
     "metadata": {},
     "output_type": "execute_result"
    },
    {
     "data": {
      "image/png": "[encoded data removed]",
      "text/plain": [
       "<Figure size 640x480 with 1 Axes>"
      ]
     },
     "metadata": {},
     "output_type": "display_data"
    }
   ],
   "source": [
    "example_iqr = example\n",
    "example_iqr['number_1'] = preprocessing.robust_scale(example['number_1'])\n",
    "example_iqr['number_1'].plot(xlabel=\"X\", ylabel=\"Y\")"
   ]
  },
  {
   "cell_type": "code",
   "execution_count": 21,
   "id": "f60ac96e",
   "metadata": {},
   "outputs": [
    {
     "data": {
      "text/plain": [
       "<Axes: xlabel='X', ylabel='Y'>"
      ]
     },
     "execution_count": 21,
     "metadata": {},
     "output_type": "execute_result"
    },
    {
     "data": {
      "image/png": "[encoded data removed]",
      "text/plain": [
       "<Figure size 640x480 with 1 Axes>"
      ]
     },
     "metadata": {},
     "output_type": "display_data"
    }
   ],
   "source": [
    "example_iqr['number_2'] = preprocessing.robust_scale(example['number_2'])\n",
    "example_iqr['number_2'].plot(xlabel=\"X\", ylabel=\"Y\")"
   ]
  },
  {
   "cell_type": "markdown",
   "id": "a8d7d61f",
   "metadata": {},
   "source": [
    "### MinMax Scaling\n",
    "최솟값 1, 최댓값 10"
   ]
  },
  {
   "cell_type": "code",
   "execution_count": 22,
   "id": "68d9babf",
   "metadata": {},
   "outputs": [
    {
     "data": {
      "text/plain": [
       "<Axes: xlabel='X', ylabel='Y'>"
      ]
     },
     "execution_count": 22,
     "metadata": {},
     "output_type": "execute_result"
    },
    {
     "data": {
      "image/png": "[encoded data removed]",
      "text/plain": [
       "<Figure size 640x480 with 1 Axes>"
      ]
     },
     "metadata": {},
     "output_type": "display_data"
    }
   ],
   "source": [
    "example_mm = example\n",
    "example_mm['number_1'] = preprocessing.minmax_scale(example['number_1'], (1, 10))\n",
    "example_mm['number_1'].plot(xlabel=\"X\", ylabel=\"Y\")"
   ]
  },
  {
   "cell_type": "code",
   "execution_count": 23,
   "id": "e953dc0e",
   "metadata": {},
   "outputs": [
    {
     "data": {
      "text/plain": [
       "<Axes: xlabel='X', ylabel='Y'>"
      ]
     },
     "execution_count": 23,
     "metadata": {},
     "output_type": "execute_result"
    },
    {
     "data": {
      "image/png": "[encoded data removed]",
      "text/plain": [
       "<Figure size 640x480 with 1 Axes>"
      ]
     },
     "metadata": {},
     "output_type": "display_data"
    }
   ],
   "source": [
    "example_mm['number_2'] = preprocessing.minmax_scale(example['number_2'], (1, 10))\n",
    "example_mm['number_2'].plot(xlabel=\"X\", ylabel=\"Y\")"
   ]
  },
  {
   "cell_type": "markdown",
   "id": "d3bc6c73",
   "metadata": {},
   "source": [
    "## Processing Categorical Data"
   ]
  },
  {
   "cell_type": "code",
   "execution_count": 24,
   "id": "f0b1e1d2",
   "metadata": {},
   "outputs": [
    {
     "data": {
      "text/html": [
       "<div>\n",
       "<style scoped>\n",
       "    .dataframe tbody tr th:only-of-type {\n",
       "        vertical-align: middle;\n",
       "    }\n",
       "\n",
       "    .dataframe tbody tr th {\n",
       "        vertical-align: top;\n",
       "    }\n",
       "\n",
       "    .dataframe thead th {\n",
       "        text-align: right;\n",
       "    }\n",
       "</style>\n",
       "<table border=\"1\" class=\"dataframe\">\n",
       "  <thead>\n",
       "    <tr style=\"text-align: right;\">\n",
       "      <th></th>\n",
       "      <th>category</th>\n",
       "    </tr>\n",
       "  </thead>\n",
       "  <tbody>\n",
       "    <tr>\n",
       "      <th>0</th>\n",
       "      <td>청소년</td>\n",
       "    </tr>\n",
       "    <tr>\n",
       "      <th>1</th>\n",
       "      <td>청소년</td>\n",
       "    </tr>\n",
       "    <tr>\n",
       "      <th>2</th>\n",
       "      <td>청년</td>\n",
       "    </tr>\n",
       "    <tr>\n",
       "      <th>3</th>\n",
       "      <td>청년</td>\n",
       "    </tr>\n",
       "    <tr>\n",
       "      <th>4</th>\n",
       "      <td>청소년</td>\n",
       "    </tr>\n",
       "  </tbody>\n",
       "</table>\n",
       "</div>"
      ],
      "text/plain": [
       "  category\n",
       "0      청소년\n",
       "1      청소년\n",
       "2       청년\n",
       "3       청년\n",
       "4      청소년"
      ]
     },
     "execution_count": 24,
     "metadata": {},
     "output_type": "execute_result"
    }
   ],
   "source": [
    "# 실습을 위한 예제 데이터\n",
    "example = pd.DataFrame({'category': ['청소년', '청소년', '청년', '청년', '청소년', '장년', '청년', '장년']})\n",
    "example.head()"
   ]
  },
  {
   "cell_type": "markdown",
   "id": "59072b2b",
   "metadata": {},
   "source": [
    "### One-hot Encoding"
   ]
  },
  {
   "cell_type": "code",
   "execution_count": 25,
   "id": "b21596de",
   "metadata": {},
   "outputs": [
    {
     "data": {
      "text/html": [
       "<div>\n",
       "<style scoped>\n",
       "    .dataframe tbody tr th:only-of-type {\n",
       "        vertical-align: middle;\n",
       "    }\n",
       "\n",
       "    .dataframe tbody tr th {\n",
       "        vertical-align: top;\n",
       "    }\n",
       "\n",
       "    .dataframe thead th {\n",
       "        text-align: right;\n",
       "    }\n",
       "</style>\n",
       "<table border=\"1\" class=\"dataframe\">\n",
       "  <thead>\n",
       "    <tr style=\"text-align: right;\">\n",
       "      <th></th>\n",
       "      <th>age_장년</th>\n",
       "      <th>age_청년</th>\n",
       "      <th>age_청소년</th>\n",
       "    </tr>\n",
       "  </thead>\n",
       "  <tbody>\n",
       "    <tr>\n",
       "      <th>0</th>\n",
       "      <td>0</td>\n",
       "      <td>0</td>\n",
       "      <td>1</td>\n",
       "    </tr>\n",
       "    <tr>\n",
       "      <th>1</th>\n",
       "      <td>0</td>\n",
       "      <td>0</td>\n",
       "      <td>1</td>\n",
       "    </tr>\n",
       "    <tr>\n",
       "      <th>2</th>\n",
       "      <td>0</td>\n",
       "      <td>1</td>\n",
       "      <td>0</td>\n",
       "    </tr>\n",
       "    <tr>\n",
       "      <th>3</th>\n",
       "      <td>0</td>\n",
       "      <td>1</td>\n",
       "      <td>0</td>\n",
       "    </tr>\n",
       "    <tr>\n",
       "      <th>4</th>\n",
       "      <td>0</td>\n",
       "      <td>0</td>\n",
       "      <td>1</td>\n",
       "    </tr>\n",
       "    <tr>\n",
       "      <th>5</th>\n",
       "      <td>1</td>\n",
       "      <td>0</td>\n",
       "      <td>0</td>\n",
       "    </tr>\n",
       "    <tr>\n",
       "      <th>6</th>\n",
       "      <td>0</td>\n",
       "      <td>1</td>\n",
       "      <td>0</td>\n",
       "    </tr>\n",
       "    <tr>\n",
       "      <th>7</th>\n",
       "      <td>1</td>\n",
       "      <td>0</td>\n",
       "      <td>0</td>\n",
       "    </tr>\n",
       "  </tbody>\n",
       "</table>\n",
       "</div>"
      ],
      "text/plain": [
       "   age_장년  age_청년  age_청소년\n",
       "0       0       0        1\n",
       "1       0       0        1\n",
       "2       0       1        0\n",
       "3       0       1        0\n",
       "4       0       0        1\n",
       "5       1       0        0\n",
       "6       0       1        0\n",
       "7       1       0        0"
      ]
     },
     "execution_count": 25,
     "metadata": {},
     "output_type": "execute_result"
    }
   ],
   "source": [
    "example_onehot = pd.get_dummies(example, prefix=['age'])\n",
    "example_onehot.head(n=10)"
   ]
  },
  {
   "cell_type": "markdown",
   "id": "db9a7363",
   "metadata": {},
   "source": [
    "### Using dummy variable"
   ]
  },
  {
   "cell_type": "code",
   "execution_count": 26,
   "id": "4bd5938a",
   "metadata": {},
   "outputs": [
    {
     "data": {
      "text/html": [
       "<div>\n",
       "<style scoped>\n",
       "    .dataframe tbody tr th:only-of-type {\n",
       "        vertical-align: middle;\n",
       "    }\n",
       "\n",
       "    .dataframe tbody tr th {\n",
       "        vertical-align: top;\n",
       "    }\n",
       "\n",
       "    .dataframe thead th {\n",
       "        text-align: right;\n",
       "    }\n",
       "</style>\n",
       "<table border=\"1\" class=\"dataframe\">\n",
       "  <thead>\n",
       "    <tr style=\"text-align: right;\">\n",
       "      <th></th>\n",
       "      <th>age_청년</th>\n",
       "      <th>age_청소년</th>\n",
       "    </tr>\n",
       "  </thead>\n",
       "  <tbody>\n",
       "    <tr>\n",
       "      <th>0</th>\n",
       "      <td>0</td>\n",
       "      <td>1</td>\n",
       "    </tr>\n",
       "    <tr>\n",
       "      <th>1</th>\n",
       "      <td>0</td>\n",
       "      <td>1</td>\n",
       "    </tr>\n",
       "    <tr>\n",
       "      <th>2</th>\n",
       "      <td>1</td>\n",
       "      <td>0</td>\n",
       "    </tr>\n",
       "    <tr>\n",
       "      <th>3</th>\n",
       "      <td>1</td>\n",
       "      <td>0</td>\n",
       "    </tr>\n",
       "    <tr>\n",
       "      <th>4</th>\n",
       "      <td>0</td>\n",
       "      <td>1</td>\n",
       "    </tr>\n",
       "    <tr>\n",
       "      <th>5</th>\n",
       "      <td>0</td>\n",
       "      <td>0</td>\n",
       "    </tr>\n",
       "    <tr>\n",
       "      <th>6</th>\n",
       "      <td>1</td>\n",
       "      <td>0</td>\n",
       "    </tr>\n",
       "    <tr>\n",
       "      <th>7</th>\n",
       "      <td>0</td>\n",
       "      <td>0</td>\n",
       "    </tr>\n",
       "  </tbody>\n",
       "</table>\n",
       "</div>"
      ],
      "text/plain": [
       "   age_청년  age_청소년\n",
       "0       0        1\n",
       "1       0        1\n",
       "2       1        0\n",
       "3       1        0\n",
       "4       0        1\n",
       "5       0        0\n",
       "6       1        0\n",
       "7       0        0"
      ]
     },
     "execution_count": 26,
     "metadata": {},
     "output_type": "execute_result"
    }
   ],
   "source": [
    "example_dummy = pd.get_dummies(example, drop_first=True, prefix=['age'])\n",
    "example_dummy.head(n=10)"
   ]
  },
  {
   "cell_type": "markdown",
   "id": "10560e70",
   "metadata": {},
   "source": [
    "## Practice"
   ]
  },
  {
   "cell_type": "markdown",
   "id": "30f4702f",
   "metadata": {},
   "source": [
    "### Practice data preprocessing\n",
    "- The following are statistics on cancer outbreaks by state in the United States.  \n",
    "https://drive.google.com/file/d/1gXstv4K89TjoE_8QrJDIgzwkDaj1MwvA/view?usp=sharing\n",
    "\n",
    "- Download the above statistics under the name 'cancer.csv' using the gdown package and store them in the variable 'cancer' using the pandemic package."
   ]
  },
  {
   "cell_type": "code",
   "execution_count": 27,
   "id": "f0c25212",
   "metadata": {},
   "outputs": [
    {
     "name": "stderr",
     "output_type": "stream",
     "text": [
      "Downloading...\n",
      "From: https://drive.google.com/uc?id=1gXstv4K89TjoE_8QrJDIgzwkDaj1MwvA\n",
      "To: /Users/choijennifer/cancer.csv\n",
      "100%|██████████████████████████████████████| 1.27k/1.27k [00:00<00:00, 7.30MB/s]\n"
     ]
    }
   ],
   "source": [
    "gdown.download(\"https://drive.google.com/uc?id=1gXstv4K89TjoE_8QrJDIgzwkDaj1MwvA\", \"cancer.csv\", quiet=False)\n",
    "cancer = pd.read_csv('cancer.csv')"
   ]
  },
  {
   "cell_type": "code",
   "execution_count": 28,
   "id": "c3fcad5c",
   "metadata": {},
   "outputs": [
    {
     "data": {
      "text/html": [
       "<div>\n",
       "<style scoped>\n",
       "    .dataframe tbody tr th:only-of-type {\n",
       "        vertical-align: middle;\n",
       "    }\n",
       "\n",
       "    .dataframe tbody tr th {\n",
       "        vertical-align: top;\n",
       "    }\n",
       "\n",
       "    .dataframe thead th {\n",
       "        text-align: right;\n",
       "    }\n",
       "</style>\n",
       "<table border=\"1\" class=\"dataframe\">\n",
       "  <thead>\n",
       "    <tr style=\"text-align: right;\">\n",
       "      <th></th>\n",
       "      <th>State</th>\n",
       "      <th>Range</th>\n",
       "      <th>Rate</th>\n",
       "    </tr>\n",
       "  </thead>\n",
       "  <tbody>\n",
       "    <tr>\n",
       "      <th>0</th>\n",
       "      <td>AK</td>\n",
       "      <td>164.2 to 174.4</td>\n",
       "      <td>173.1</td>\n",
       "    </tr>\n",
       "    <tr>\n",
       "      <th>1</th>\n",
       "      <td>AL</td>\n",
       "      <td>174.5 to 199.3</td>\n",
       "      <td>182.1</td>\n",
       "    </tr>\n",
       "    <tr>\n",
       "      <th>2</th>\n",
       "      <td>AR</td>\n",
       "      <td>174.5 to 199.3</td>\n",
       "      <td>189.6</td>\n",
       "    </tr>\n",
       "    <tr>\n",
       "      <th>3</th>\n",
       "      <td>AZ</td>\n",
       "      <td>127.9 to 155.3</td>\n",
       "      <td>146.4</td>\n",
       "    </tr>\n",
       "    <tr>\n",
       "      <th>4</th>\n",
       "      <td>CA</td>\n",
       "      <td>127.9 to 155.3</td>\n",
       "      <td>146.6</td>\n",
       "    </tr>\n",
       "  </tbody>\n",
       "</table>\n",
       "</div>"
      ],
      "text/plain": [
       "  State           Range   Rate\n",
       "0    AK  164.2 to 174.4  173.1\n",
       "1    AL  174.5 to 199.3  182.1\n",
       "2    AR  174.5 to 199.3  189.6\n",
       "3    AZ  127.9 to 155.3  146.4\n",
       "4    CA  127.9 to 155.3  146.6"
      ]
     },
     "execution_count": 28,
     "metadata": {},
     "output_type": "execute_result"
    }
   ],
   "source": [
    "cancer.head()"
   ]
  },
  {
   "cell_type": "markdown",
   "id": "71618a62",
   "metadata": {},
   "source": [
    "- The state name of the United States does not allow duplication, so it is suitable for use as an index. Apply this to the canceller variable."
   ]
  },
  {
   "cell_type": "code",
   "execution_count": 29,
   "id": "ad7071b8",
   "metadata": {},
   "outputs": [],
   "source": [
    "cancer = cancer.set_index('State', drop=True)"
   ]
  },
  {
   "cell_type": "code",
   "execution_count": 30,
   "id": "10e714d2",
   "metadata": {},
   "outputs": [
    {
     "data": {
      "text/html": [
       "<div>\n",
       "<style scoped>\n",
       "    .dataframe tbody tr th:only-of-type {\n",
       "        vertical-align: middle;\n",
       "    }\n",
       "\n",
       "    .dataframe tbody tr th {\n",
       "        vertical-align: top;\n",
       "    }\n",
       "\n",
       "    .dataframe thead th {\n",
       "        text-align: right;\n",
       "    }\n",
       "</style>\n",
       "<table border=\"1\" class=\"dataframe\">\n",
       "  <thead>\n",
       "    <tr style=\"text-align: right;\">\n",
       "      <th></th>\n",
       "      <th>Range</th>\n",
       "      <th>Rate</th>\n",
       "    </tr>\n",
       "    <tr>\n",
       "      <th>State</th>\n",
       "      <th></th>\n",
       "      <th></th>\n",
       "    </tr>\n",
       "  </thead>\n",
       "  <tbody>\n",
       "    <tr>\n",
       "      <th>AK</th>\n",
       "      <td>164.2 to 174.4</td>\n",
       "      <td>173.1</td>\n",
       "    </tr>\n",
       "    <tr>\n",
       "      <th>AL</th>\n",
       "      <td>174.5 to 199.3</td>\n",
       "      <td>182.1</td>\n",
       "    </tr>\n",
       "    <tr>\n",
       "      <th>AR</th>\n",
       "      <td>174.5 to 199.3</td>\n",
       "      <td>189.6</td>\n",
       "    </tr>\n",
       "    <tr>\n",
       "      <th>AZ</th>\n",
       "      <td>127.9 to 155.3</td>\n",
       "      <td>146.4</td>\n",
       "    </tr>\n",
       "    <tr>\n",
       "      <th>CA</th>\n",
       "      <td>127.9 to 155.3</td>\n",
       "      <td>146.6</td>\n",
       "    </tr>\n",
       "    <tr>\n",
       "      <th>CO</th>\n",
       "      <td>127.9 to 155.3</td>\n",
       "      <td>139.2</td>\n",
       "    </tr>\n",
       "    <tr>\n",
       "      <th>CT</th>\n",
       "      <td>127.9 to 155.3</td>\n",
       "      <td>147.8</td>\n",
       "    </tr>\n",
       "    <tr>\n",
       "      <th>DC</th>\n",
       "      <td>174.5 to 199.3</td>\n",
       "      <td>177.7</td>\n",
       "    </tr>\n",
       "    <tr>\n",
       "      <th>DE</th>\n",
       "      <td>164.2 to 174.4</td>\n",
       "      <td>167.1</td>\n",
       "    </tr>\n",
       "    <tr>\n",
       "      <th>FL</th>\n",
       "      <td>127.9 to 155.3</td>\n",
       "      <td>154.9</td>\n",
       "    </tr>\n",
       "    <tr>\n",
       "      <th>GA</th>\n",
       "      <td>164.2 to 174.4</td>\n",
       "      <td>168.1</td>\n",
       "    </tr>\n",
       "    <tr>\n",
       "      <th>HI</th>\n",
       "      <td>127.9 to 155.3</td>\n",
       "      <td>NaN</td>\n",
       "    </tr>\n",
       "    <tr>\n",
       "      <th>IA</th>\n",
       "      <td>164.2 to 174.4</td>\n",
       "      <td>168.2</td>\n",
       "    </tr>\n",
       "    <tr>\n",
       "      <th>ID</th>\n",
       "      <td>155.4 to 164.1</td>\n",
       "      <td>156.3</td>\n",
       "    </tr>\n",
       "    <tr>\n",
       "      <th>IL</th>\n",
       "      <td>164.2 to 174.4</td>\n",
       "      <td>171.7</td>\n",
       "    </tr>\n",
       "    <tr>\n",
       "      <th>IN</th>\n",
       "      <td>174.5 to 199.3</td>\n",
       "      <td>179.4</td>\n",
       "    </tr>\n",
       "    <tr>\n",
       "      <th>KS</th>\n",
       "      <td>155.4 to 164.1</td>\n",
       "      <td>162.9</td>\n",
       "    </tr>\n",
       "    <tr>\n",
       "      <th>KY</th>\n",
       "      <td>174.5 to 199.3</td>\n",
       "      <td>200000.4</td>\n",
       "    </tr>\n",
       "    <tr>\n",
       "      <th>LA</th>\n",
       "      <td>174.5 to 199.3</td>\n",
       "      <td>188.7</td>\n",
       "    </tr>\n",
       "    <tr>\n",
       "      <th>MA</th>\n",
       "      <td>155.4 to 164.1</td>\n",
       "      <td>159.7</td>\n",
       "    </tr>\n",
       "  </tbody>\n",
       "</table>\n",
       "</div>"
      ],
      "text/plain": [
       "                Range      Rate\n",
       "State                          \n",
       "AK     164.2 to 174.4     173.1\n",
       "AL     174.5 to 199.3     182.1\n",
       "AR     174.5 to 199.3     189.6\n",
       "AZ     127.9 to 155.3     146.4\n",
       "CA     127.9 to 155.3     146.6\n",
       "CO     127.9 to 155.3     139.2\n",
       "CT     127.9 to 155.3     147.8\n",
       "DC     174.5 to 199.3     177.7\n",
       "DE     164.2 to 174.4     167.1\n",
       "FL     127.9 to 155.3     154.9\n",
       "GA     164.2 to 174.4     168.1\n",
       "HI     127.9 to 155.3       NaN\n",
       "IA     164.2 to 174.4     168.2\n",
       "ID     155.4 to 164.1     156.3\n",
       "IL     164.2 to 174.4     171.7\n",
       "IN     174.5 to 199.3     179.4\n",
       "KS     155.4 to 164.1     162.9\n",
       "KY     174.5 to 199.3  200000.4\n",
       "LA     174.5 to 199.3     188.7\n",
       "MA     155.4 to 164.1     159.7"
      ]
     },
     "execution_count": 30,
     "metadata": {},
     "output_type": "execute_result"
    }
   ],
   "source": [
    "cancer.head(n=20)"
   ]
  },
  {
   "cell_type": "markdown",
   "id": "7c7d21a7",
   "metadata": {},
   "source": [
    "- It was confirmed that there was no data from some states due to a lack of statistical personnel.  \n",
    "  - There is no plausible basis for estimating missing values. Therefore, it was decided to exclude rows including missing values.\n",
    "  - Treat missing values according to the above method."
   ]
  },
  {
   "cell_type": "code",
   "execution_count": 31,
   "id": "a158820f",
   "metadata": {},
   "outputs": [],
   "source": [
    "cancer = cancer.dropna()"
   ]
  },
  {
   "cell_type": "code",
   "execution_count": 32,
   "id": "1e0afbe6",
   "metadata": {},
   "outputs": [
    {
     "data": {
      "text/html": [
       "<div>\n",
       "<style scoped>\n",
       "    .dataframe tbody tr th:only-of-type {\n",
       "        vertical-align: middle;\n",
       "    }\n",
       "\n",
       "    .dataframe tbody tr th {\n",
       "        vertical-align: top;\n",
       "    }\n",
       "\n",
       "    .dataframe thead th {\n",
       "        text-align: right;\n",
       "    }\n",
       "</style>\n",
       "<table border=\"1\" class=\"dataframe\">\n",
       "  <thead>\n",
       "    <tr style=\"text-align: right;\">\n",
       "      <th></th>\n",
       "      <th>Range</th>\n",
       "      <th>Rate</th>\n",
       "    </tr>\n",
       "    <tr>\n",
       "      <th>State</th>\n",
       "      <th></th>\n",
       "      <th></th>\n",
       "    </tr>\n",
       "  </thead>\n",
       "  <tbody>\n",
       "    <tr>\n",
       "      <th>AK</th>\n",
       "      <td>164.2 to 174.4</td>\n",
       "      <td>173.1</td>\n",
       "    </tr>\n",
       "    <tr>\n",
       "      <th>AL</th>\n",
       "      <td>174.5 to 199.3</td>\n",
       "      <td>182.1</td>\n",
       "    </tr>\n",
       "    <tr>\n",
       "      <th>AR</th>\n",
       "      <td>174.5 to 199.3</td>\n",
       "      <td>189.6</td>\n",
       "    </tr>\n",
       "    <tr>\n",
       "      <th>AZ</th>\n",
       "      <td>127.9 to 155.3</td>\n",
       "      <td>146.4</td>\n",
       "    </tr>\n",
       "    <tr>\n",
       "      <th>CA</th>\n",
       "      <td>127.9 to 155.3</td>\n",
       "      <td>146.6</td>\n",
       "    </tr>\n",
       "    <tr>\n",
       "      <th>CO</th>\n",
       "      <td>127.9 to 155.3</td>\n",
       "      <td>139.2</td>\n",
       "    </tr>\n",
       "    <tr>\n",
       "      <th>CT</th>\n",
       "      <td>127.9 to 155.3</td>\n",
       "      <td>147.8</td>\n",
       "    </tr>\n",
       "    <tr>\n",
       "      <th>DC</th>\n",
       "      <td>174.5 to 199.3</td>\n",
       "      <td>177.7</td>\n",
       "    </tr>\n",
       "    <tr>\n",
       "      <th>DE</th>\n",
       "      <td>164.2 to 174.4</td>\n",
       "      <td>167.1</td>\n",
       "    </tr>\n",
       "    <tr>\n",
       "      <th>FL</th>\n",
       "      <td>127.9 to 155.3</td>\n",
       "      <td>154.9</td>\n",
       "    </tr>\n",
       "    <tr>\n",
       "      <th>GA</th>\n",
       "      <td>164.2 to 174.4</td>\n",
       "      <td>168.1</td>\n",
       "    </tr>\n",
       "    <tr>\n",
       "      <th>IA</th>\n",
       "      <td>164.2 to 174.4</td>\n",
       "      <td>168.2</td>\n",
       "    </tr>\n",
       "    <tr>\n",
       "      <th>ID</th>\n",
       "      <td>155.4 to 164.1</td>\n",
       "      <td>156.3</td>\n",
       "    </tr>\n",
       "    <tr>\n",
       "      <th>IL</th>\n",
       "      <td>164.2 to 174.4</td>\n",
       "      <td>171.7</td>\n",
       "    </tr>\n",
       "    <tr>\n",
       "      <th>IN</th>\n",
       "      <td>174.5 to 199.3</td>\n",
       "      <td>179.4</td>\n",
       "    </tr>\n",
       "    <tr>\n",
       "      <th>KS</th>\n",
       "      <td>155.4 to 164.1</td>\n",
       "      <td>162.9</td>\n",
       "    </tr>\n",
       "    <tr>\n",
       "      <th>KY</th>\n",
       "      <td>174.5 to 199.3</td>\n",
       "      <td>200000.4</td>\n",
       "    </tr>\n",
       "    <tr>\n",
       "      <th>LA</th>\n",
       "      <td>174.5 to 199.3</td>\n",
       "      <td>188.7</td>\n",
       "    </tr>\n",
       "    <tr>\n",
       "      <th>MA</th>\n",
       "      <td>155.4 to 164.1</td>\n",
       "      <td>159.7</td>\n",
       "    </tr>\n",
       "    <tr>\n",
       "      <th>MD</th>\n",
       "      <td>155.4 to 164.1</td>\n",
       "      <td>163.0</td>\n",
       "    </tr>\n",
       "  </tbody>\n",
       "</table>\n",
       "</div>"
      ],
      "text/plain": [
       "                Range      Rate\n",
       "State                          \n",
       "AK     164.2 to 174.4     173.1\n",
       "AL     174.5 to 199.3     182.1\n",
       "AR     174.5 to 199.3     189.6\n",
       "AZ     127.9 to 155.3     146.4\n",
       "CA     127.9 to 155.3     146.6\n",
       "CO     127.9 to 155.3     139.2\n",
       "CT     127.9 to 155.3     147.8\n",
       "DC     174.5 to 199.3     177.7\n",
       "DE     164.2 to 174.4     167.1\n",
       "FL     127.9 to 155.3     154.9\n",
       "GA     164.2 to 174.4     168.1\n",
       "IA     164.2 to 174.4     168.2\n",
       "ID     155.4 to 164.1     156.3\n",
       "IL     164.2 to 174.4     171.7\n",
       "IN     174.5 to 199.3     179.4\n",
       "KS     155.4 to 164.1     162.9\n",
       "KY     174.5 to 199.3  200000.4\n",
       "LA     174.5 to 199.3     188.7\n",
       "MA     155.4 to 164.1     159.7\n",
       "MD     155.4 to 164.1     163.0"
      ]
     },
     "execution_count": 32,
     "metadata": {},
     "output_type": "execute_result"
    }
   ],
   "source": [
    "cancer.head(n=20)"
   ]
  },
  {
   "cell_type": "markdown",
   "id": "1de4f595",
   "metadata": {},
   "source": [
    "- In addition, in some states, it was confirmed that too large a value was included by mistake.\n",
    "  - Treat the outlier in a standardized manner.  "
   ]
  },
  {
   "cell_type": "code",
   "execution_count": 33,
   "id": "78dff97f",
   "metadata": {},
   "outputs": [
    {
     "name": "stdout",
     "output_type": "stream",
     "text": [
      "mean: 4328.00625\n",
      "std: 28843.792942657456\n"
     ]
    }
   ],
   "source": [
    "def std_outlier(data):\n",
    "    for i in range(len(data.iloc[1])):\n",
    "        if type(data.iloc[0, i]) != np.int64 and type(data.iloc[0, i]) != np.float64:\n",
    "            continue\n",
    "        print(f\"mean: {data.iloc[:, i].mean()}\")\n",
    "        print(f\"std: {data.iloc[:, i].std()}\")\n",
    "        data = data[~(np.abs(data.iloc[:, i] - data.iloc[:, i].mean()) > (3 * data.iloc[:, i].std()))]\n",
    "    \n",
    "    return data\n",
    "\n",
    "cancer = std_outlier(cancer)"
   ]
  },
  {
   "cell_type": "code",
   "execution_count": 34,
   "id": "7178ad21",
   "metadata": {},
   "outputs": [
    {
     "data": {
      "text/html": [
       "<div>\n",
       "<style scoped>\n",
       "    .dataframe tbody tr th:only-of-type {\n",
       "        vertical-align: middle;\n",
       "    }\n",
       "\n",
       "    .dataframe tbody tr th {\n",
       "        vertical-align: top;\n",
       "    }\n",
       "\n",
       "    .dataframe thead th {\n",
       "        text-align: right;\n",
       "    }\n",
       "</style>\n",
       "<table border=\"1\" class=\"dataframe\">\n",
       "  <thead>\n",
       "    <tr style=\"text-align: right;\">\n",
       "      <th></th>\n",
       "      <th>Range</th>\n",
       "      <th>Rate</th>\n",
       "    </tr>\n",
       "    <tr>\n",
       "      <th>State</th>\n",
       "      <th></th>\n",
       "      <th></th>\n",
       "    </tr>\n",
       "  </thead>\n",
       "  <tbody>\n",
       "    <tr>\n",
       "      <th>AK</th>\n",
       "      <td>164.2 to 174.4</td>\n",
       "      <td>173.1</td>\n",
       "    </tr>\n",
       "    <tr>\n",
       "      <th>AL</th>\n",
       "      <td>174.5 to 199.3</td>\n",
       "      <td>182.1</td>\n",
       "    </tr>\n",
       "    <tr>\n",
       "      <th>AR</th>\n",
       "      <td>174.5 to 199.3</td>\n",
       "      <td>189.6</td>\n",
       "    </tr>\n",
       "    <tr>\n",
       "      <th>AZ</th>\n",
       "      <td>127.9 to 155.3</td>\n",
       "      <td>146.4</td>\n",
       "    </tr>\n",
       "    <tr>\n",
       "      <th>CA</th>\n",
       "      <td>127.9 to 155.3</td>\n",
       "      <td>146.6</td>\n",
       "    </tr>\n",
       "    <tr>\n",
       "      <th>CO</th>\n",
       "      <td>127.9 to 155.3</td>\n",
       "      <td>139.2</td>\n",
       "    </tr>\n",
       "    <tr>\n",
       "      <th>CT</th>\n",
       "      <td>127.9 to 155.3</td>\n",
       "      <td>147.8</td>\n",
       "    </tr>\n",
       "    <tr>\n",
       "      <th>DC</th>\n",
       "      <td>174.5 to 199.3</td>\n",
       "      <td>177.7</td>\n",
       "    </tr>\n",
       "    <tr>\n",
       "      <th>DE</th>\n",
       "      <td>164.2 to 174.4</td>\n",
       "      <td>167.1</td>\n",
       "    </tr>\n",
       "    <tr>\n",
       "      <th>FL</th>\n",
       "      <td>127.9 to 155.3</td>\n",
       "      <td>154.9</td>\n",
       "    </tr>\n",
       "    <tr>\n",
       "      <th>GA</th>\n",
       "      <td>164.2 to 174.4</td>\n",
       "      <td>168.1</td>\n",
       "    </tr>\n",
       "    <tr>\n",
       "      <th>IA</th>\n",
       "      <td>164.2 to 174.4</td>\n",
       "      <td>168.2</td>\n",
       "    </tr>\n",
       "    <tr>\n",
       "      <th>ID</th>\n",
       "      <td>155.4 to 164.1</td>\n",
       "      <td>156.3</td>\n",
       "    </tr>\n",
       "    <tr>\n",
       "      <th>IL</th>\n",
       "      <td>164.2 to 174.4</td>\n",
       "      <td>171.7</td>\n",
       "    </tr>\n",
       "    <tr>\n",
       "      <th>IN</th>\n",
       "      <td>174.5 to 199.3</td>\n",
       "      <td>179.4</td>\n",
       "    </tr>\n",
       "    <tr>\n",
       "      <th>KS</th>\n",
       "      <td>155.4 to 164.1</td>\n",
       "      <td>162.9</td>\n",
       "    </tr>\n",
       "    <tr>\n",
       "      <th>LA</th>\n",
       "      <td>174.5 to 199.3</td>\n",
       "      <td>188.7</td>\n",
       "    </tr>\n",
       "    <tr>\n",
       "      <th>MA</th>\n",
       "      <td>155.4 to 164.1</td>\n",
       "      <td>159.7</td>\n",
       "    </tr>\n",
       "    <tr>\n",
       "      <th>MD</th>\n",
       "      <td>155.4 to 164.1</td>\n",
       "      <td>163.0</td>\n",
       "    </tr>\n",
       "    <tr>\n",
       "      <th>ME</th>\n",
       "      <td>174.5 to 199.3</td>\n",
       "      <td>174.8</td>\n",
       "    </tr>\n",
       "  </tbody>\n",
       "</table>\n",
       "</div>"
      ],
      "text/plain": [
       "                Range   Rate\n",
       "State                       \n",
       "AK     164.2 to 174.4  173.1\n",
       "AL     174.5 to 199.3  182.1\n",
       "AR     174.5 to 199.3  189.6\n",
       "AZ     127.9 to 155.3  146.4\n",
       "CA     127.9 to 155.3  146.6\n",
       "CO     127.9 to 155.3  139.2\n",
       "CT     127.9 to 155.3  147.8\n",
       "DC     174.5 to 199.3  177.7\n",
       "DE     164.2 to 174.4  167.1\n",
       "FL     127.9 to 155.3  154.9\n",
       "GA     164.2 to 174.4  168.1\n",
       "IA     164.2 to 174.4  168.2\n",
       "ID     155.4 to 164.1  156.3\n",
       "IL     164.2 to 174.4  171.7\n",
       "IN     174.5 to 199.3  179.4\n",
       "KS     155.4 to 164.1  162.9\n",
       "LA     174.5 to 199.3  188.7\n",
       "MA     155.4 to 164.1  159.7\n",
       "MD     155.4 to 164.1  163.0\n",
       "ME     174.5 to 199.3  174.8"
      ]
     },
     "execution_count": 34,
     "metadata": {},
     "output_type": "execute_result"
    }
   ],
   "source": [
    "cancer.head(n=20)"
   ]
  },
  {
   "cell_type": "markdown",
   "id": "64d497c7",
   "metadata": {},
   "source": [
    "- Finally, these statistics include categorical data.\n",
    "- Treat it in a one-hot encoding manner."
   ]
  },
  {
   "cell_type": "code",
   "execution_count": 35,
   "id": "48272e3e",
   "metadata": {},
   "outputs": [],
   "source": [
    "cancer = pd.get_dummies(cancer, prefix=['range'])"
   ]
  },
  {
   "cell_type": "code",
   "execution_count": 36,
   "id": "8d2592d9",
   "metadata": {},
   "outputs": [
    {
     "data": {
      "text/html": [
       "<div>\n",
       "<style scoped>\n",
       "    .dataframe tbody tr th:only-of-type {\n",
       "        vertical-align: middle;\n",
       "    }\n",
       "\n",
       "    .dataframe tbody tr th {\n",
       "        vertical-align: top;\n",
       "    }\n",
       "\n",
       "    .dataframe thead th {\n",
       "        text-align: right;\n",
       "    }\n",
       "</style>\n",
       "<table border=\"1\" class=\"dataframe\">\n",
       "  <thead>\n",
       "    <tr style=\"text-align: right;\">\n",
       "      <th></th>\n",
       "      <th>Rate</th>\n",
       "      <th>range_127.9 to 155.3</th>\n",
       "      <th>range_155.4 to 164.1</th>\n",
       "      <th>range_164.2 to 174.4</th>\n",
       "      <th>range_174.5 to 199.3</th>\n",
       "    </tr>\n",
       "    <tr>\n",
       "      <th>State</th>\n",
       "      <th></th>\n",
       "      <th></th>\n",
       "      <th></th>\n",
       "      <th></th>\n",
       "      <th></th>\n",
       "    </tr>\n",
       "  </thead>\n",
       "  <tbody>\n",
       "    <tr>\n",
       "      <th>AK</th>\n",
       "      <td>173.1</td>\n",
       "      <td>0</td>\n",
       "      <td>0</td>\n",
       "      <td>1</td>\n",
       "      <td>0</td>\n",
       "    </tr>\n",
       "    <tr>\n",
       "      <th>AL</th>\n",
       "      <td>182.1</td>\n",
       "      <td>0</td>\n",
       "      <td>0</td>\n",
       "      <td>0</td>\n",
       "      <td>1</td>\n",
       "    </tr>\n",
       "    <tr>\n",
       "      <th>AR</th>\n",
       "      <td>189.6</td>\n",
       "      <td>0</td>\n",
       "      <td>0</td>\n",
       "      <td>0</td>\n",
       "      <td>1</td>\n",
       "    </tr>\n",
       "    <tr>\n",
       "      <th>AZ</th>\n",
       "      <td>146.4</td>\n",
       "      <td>1</td>\n",
       "      <td>0</td>\n",
       "      <td>0</td>\n",
       "      <td>0</td>\n",
       "    </tr>\n",
       "    <tr>\n",
       "      <th>CA</th>\n",
       "      <td>146.6</td>\n",
       "      <td>1</td>\n",
       "      <td>0</td>\n",
       "      <td>0</td>\n",
       "      <td>0</td>\n",
       "    </tr>\n",
       "    <tr>\n",
       "      <th>CO</th>\n",
       "      <td>139.2</td>\n",
       "      <td>1</td>\n",
       "      <td>0</td>\n",
       "      <td>0</td>\n",
       "      <td>0</td>\n",
       "    </tr>\n",
       "    <tr>\n",
       "      <th>CT</th>\n",
       "      <td>147.8</td>\n",
       "      <td>1</td>\n",
       "      <td>0</td>\n",
       "      <td>0</td>\n",
       "      <td>0</td>\n",
       "    </tr>\n",
       "    <tr>\n",
       "      <th>DC</th>\n",
       "      <td>177.7</td>\n",
       "      <td>0</td>\n",
       "      <td>0</td>\n",
       "      <td>0</td>\n",
       "      <td>1</td>\n",
       "    </tr>\n",
       "    <tr>\n",
       "      <th>DE</th>\n",
       "      <td>167.1</td>\n",
       "      <td>0</td>\n",
       "      <td>0</td>\n",
       "      <td>1</td>\n",
       "      <td>0</td>\n",
       "    </tr>\n",
       "    <tr>\n",
       "      <th>FL</th>\n",
       "      <td>154.9</td>\n",
       "      <td>1</td>\n",
       "      <td>0</td>\n",
       "      <td>0</td>\n",
       "      <td>0</td>\n",
       "    </tr>\n",
       "  </tbody>\n",
       "</table>\n",
       "</div>"
      ],
      "text/plain": [
       "        Rate  range_127.9 to 155.3  range_155.4 to 164.1  \\\n",
       "State                                                      \n",
       "AK     173.1                     0                     0   \n",
       "AL     182.1                     0                     0   \n",
       "AR     189.6                     0                     0   \n",
       "AZ     146.4                     1                     0   \n",
       "CA     146.6                     1                     0   \n",
       "CO     139.2                     1                     0   \n",
       "CT     147.8                     1                     0   \n",
       "DC     177.7                     0                     0   \n",
       "DE     167.1                     0                     0   \n",
       "FL     154.9                     1                     0   \n",
       "\n",
       "       range_164.2 to 174.4  range_174.5 to 199.3  \n",
       "State                                              \n",
       "AK                        1                     0  \n",
       "AL                        0                     1  \n",
       "AR                        0                     1  \n",
       "AZ                        0                     0  \n",
       "CA                        0                     0  \n",
       "CO                        0                     0  \n",
       "CT                        0                     0  \n",
       "DC                        0                     1  \n",
       "DE                        1                     0  \n",
       "FL                        0                     0  "
      ]
     },
     "execution_count": 36,
     "metadata": {},
     "output_type": "execute_result"
    }
   ],
   "source": [
    "cancer.head(n=10)"
   ]
  }
 ],
 "metadata": {
  "colab": {
   "provenance": []
  },
  "kernelspec": {
   "display_name": "Python 3 (ipykernel)",
   "language": "python",
   "name": "python3"
  },
  "language_info": {
   "codemirror_mode": {
    "name": "ipython",
    "version": 3
   },
   "file_extension": ".py",
   "mimetype": "text/x-python",
   "name": "python",
   "nbconvert_exporter": "python",
   "pygments_lexer": "ipython3",
   "version": "3.10.9"
  }
 },
 "nbformat": 4,
 "nbformat_minor": 5
}
